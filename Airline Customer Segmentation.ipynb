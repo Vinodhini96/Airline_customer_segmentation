{
 "cells": [
  {
   "cell_type": "markdown",
   "id": "2da96a23",
   "metadata": {},
   "source": [
    "# project "
   ]
  },
  {
   "cell_type": "markdown",
   "id": "4c6f070d",
   "metadata": {},
   "source": [
    "# Airline Customer Segmentation\n",
    "by Vinodhini Rajamanickam"
   ]
  },
  {
   "cell_type": "markdown",
   "id": "d7e6993f",
   "metadata": {},
   "source": [
    "## import necessary libraries"
   ]
  },
  {
   "cell_type": "code",
   "execution_count": 1,
   "id": "f31f5147",
   "metadata": {},
   "outputs": [],
   "source": [
    "#data loading and manipulation\n",
    "import pandas as pd\n",
    "\n",
    "#visualization\n",
    "import matplotlib.pyplot as plt\n",
    "import seaborn as sns\n",
    "\n",
    "# for scaling\n",
    "from sklearn.preprocessing import StandardScaler\n",
    "\n",
    "#algorithm\n",
    "from sklearn.cluster import KMeans"
   ]
  },
  {
   "cell_type": "markdown",
   "id": "de5f613c",
   "metadata": {},
   "source": [
    "## load data"
   ]
  },
  {
   "cell_type": "code",
   "execution_count": 2,
   "id": "0f8b2f26",
   "metadata": {},
   "outputs": [],
   "source": [
    "#load data\n",
    "data = pd.read_csv(\"flight_train.csv\")"
   ]
  },
  {
   "cell_type": "code",
   "execution_count": 3,
   "id": "7e627e15",
   "metadata": {},
   "outputs": [
    {
     "data": {
      "text/html": [
       "<div>\n",
       "<style scoped>\n",
       "    .dataframe tbody tr th:only-of-type {\n",
       "        vertical-align: middle;\n",
       "    }\n",
       "\n",
       "    .dataframe tbody tr th {\n",
       "        vertical-align: top;\n",
       "    }\n",
       "\n",
       "    .dataframe thead th {\n",
       "        text-align: right;\n",
       "    }\n",
       "</style>\n",
       "<table border=\"1\" class=\"dataframe\">\n",
       "  <thead>\n",
       "    <tr style=\"text-align: right;\">\n",
       "      <th></th>\n",
       "      <th>MEMBER_NO</th>\n",
       "      <th>FFP_DATE</th>\n",
       "      <th>FIRST_FLIGHT_DATE</th>\n",
       "      <th>GENDER</th>\n",
       "      <th>FFP_TIER</th>\n",
       "      <th>WORK_CITY</th>\n",
       "      <th>WORK_PROVINCE</th>\n",
       "      <th>WORK_COUNTRY</th>\n",
       "      <th>AGE</th>\n",
       "      <th>LOAD_TIME</th>\n",
       "      <th>...</th>\n",
       "      <th>SUM_YR_2</th>\n",
       "      <th>SEG_KM_SUM</th>\n",
       "      <th>LAST_FLIGHT_DATE</th>\n",
       "      <th>LAST_TO_END</th>\n",
       "      <th>AVG_INTERVAL</th>\n",
       "      <th>MAX_INTERVAL</th>\n",
       "      <th>EXCHANGE_COUNT</th>\n",
       "      <th>avg_discount</th>\n",
       "      <th>Points_Sum</th>\n",
       "      <th>Point_NotFlight</th>\n",
       "    </tr>\n",
       "  </thead>\n",
       "  <tbody>\n",
       "    <tr>\n",
       "      <th>0</th>\n",
       "      <td>54993</td>\n",
       "      <td>11/2/2006</td>\n",
       "      <td>12/24/2008</td>\n",
       "      <td>Male</td>\n",
       "      <td>6</td>\n",
       "      <td>.</td>\n",
       "      <td>beijing</td>\n",
       "      <td>CN</td>\n",
       "      <td>31.0</td>\n",
       "      <td>3/31/2014</td>\n",
       "      <td>...</td>\n",
       "      <td>234188.0</td>\n",
       "      <td>580717</td>\n",
       "      <td>3/31/2014</td>\n",
       "      <td>1</td>\n",
       "      <td>3.483254</td>\n",
       "      <td>18</td>\n",
       "      <td>34</td>\n",
       "      <td>0.961639</td>\n",
       "      <td>619760</td>\n",
       "      <td>50</td>\n",
       "    </tr>\n",
       "    <tr>\n",
       "      <th>1</th>\n",
       "      <td>28065</td>\n",
       "      <td>2/19/2007</td>\n",
       "      <td>8/3/2007</td>\n",
       "      <td>Male</td>\n",
       "      <td>6</td>\n",
       "      <td>NaN</td>\n",
       "      <td>beijing</td>\n",
       "      <td>CN</td>\n",
       "      <td>42.0</td>\n",
       "      <td>3/31/2014</td>\n",
       "      <td>...</td>\n",
       "      <td>167434.0</td>\n",
       "      <td>293678</td>\n",
       "      <td>3/25/2014</td>\n",
       "      <td>7</td>\n",
       "      <td>5.194245</td>\n",
       "      <td>17</td>\n",
       "      <td>29</td>\n",
       "      <td>1.252314</td>\n",
       "      <td>415768</td>\n",
       "      <td>33</td>\n",
       "    </tr>\n",
       "    <tr>\n",
       "      <th>2</th>\n",
       "      <td>55106</td>\n",
       "      <td>2/1/2007</td>\n",
       "      <td>8/30/2007</td>\n",
       "      <td>Male</td>\n",
       "      <td>6</td>\n",
       "      <td>.</td>\n",
       "      <td>beijing</td>\n",
       "      <td>CN</td>\n",
       "      <td>40.0</td>\n",
       "      <td>3/31/2014</td>\n",
       "      <td>...</td>\n",
       "      <td>164982.0</td>\n",
       "      <td>283712</td>\n",
       "      <td>3/21/2014</td>\n",
       "      <td>11</td>\n",
       "      <td>5.298507</td>\n",
       "      <td>18</td>\n",
       "      <td>20</td>\n",
       "      <td>1.254676</td>\n",
       "      <td>406361</td>\n",
       "      <td>26</td>\n",
       "    </tr>\n",
       "    <tr>\n",
       "      <th>3</th>\n",
       "      <td>21189</td>\n",
       "      <td>8/22/2008</td>\n",
       "      <td>8/23/2008</td>\n",
       "      <td>Male</td>\n",
       "      <td>5</td>\n",
       "      <td>Los Angeles</td>\n",
       "      <td>CA</td>\n",
       "      <td>US</td>\n",
       "      <td>64.0</td>\n",
       "      <td>3/31/2014</td>\n",
       "      <td>...</td>\n",
       "      <td>125500.0</td>\n",
       "      <td>281336</td>\n",
       "      <td>12/26/2013</td>\n",
       "      <td>97</td>\n",
       "      <td>27.863636</td>\n",
       "      <td>73</td>\n",
       "      <td>11</td>\n",
       "      <td>1.090870</td>\n",
       "      <td>372204</td>\n",
       "      <td>12</td>\n",
       "    </tr>\n",
       "    <tr>\n",
       "      <th>4</th>\n",
       "      <td>39546</td>\n",
       "      <td>4/10/2009</td>\n",
       "      <td>4/15/2009</td>\n",
       "      <td>Male</td>\n",
       "      <td>6</td>\n",
       "      <td>guiyang</td>\n",
       "      <td>guizhou</td>\n",
       "      <td>CN</td>\n",
       "      <td>48.0</td>\n",
       "      <td>3/31/2014</td>\n",
       "      <td>...</td>\n",
       "      <td>130702.0</td>\n",
       "      <td>309928</td>\n",
       "      <td>3/27/2014</td>\n",
       "      <td>5</td>\n",
       "      <td>4.788079</td>\n",
       "      <td>47</td>\n",
       "      <td>27</td>\n",
       "      <td>0.970658</td>\n",
       "      <td>338813</td>\n",
       "      <td>39</td>\n",
       "    </tr>\n",
       "  </tbody>\n",
       "</table>\n",
       "<p>5 rows × 23 columns</p>\n",
       "</div>"
      ],
      "text/plain": [
       "   MEMBER_NO   FFP_DATE FIRST_FLIGHT_DATE GENDER  FFP_TIER    WORK_CITY  \\\n",
       "0      54993  11/2/2006        12/24/2008   Male         6            .   \n",
       "1      28065  2/19/2007          8/3/2007   Male         6          NaN   \n",
       "2      55106   2/1/2007         8/30/2007   Male         6            .   \n",
       "3      21189  8/22/2008         8/23/2008   Male         5  Los Angeles   \n",
       "4      39546  4/10/2009         4/15/2009   Male         6      guiyang   \n",
       "\n",
       "  WORK_PROVINCE WORK_COUNTRY   AGE  LOAD_TIME  ...  SUM_YR_2  SEG_KM_SUM  \\\n",
       "0       beijing           CN  31.0  3/31/2014  ...  234188.0      580717   \n",
       "1       beijing           CN  42.0  3/31/2014  ...  167434.0      293678   \n",
       "2       beijing           CN  40.0  3/31/2014  ...  164982.0      283712   \n",
       "3            CA           US  64.0  3/31/2014  ...  125500.0      281336   \n",
       "4       guizhou           CN  48.0  3/31/2014  ...  130702.0      309928   \n",
       "\n",
       "   LAST_FLIGHT_DATE  LAST_TO_END  AVG_INTERVAL MAX_INTERVAL  EXCHANGE_COUNT  \\\n",
       "0         3/31/2014            1      3.483254           18              34   \n",
       "1         3/25/2014            7      5.194245           17              29   \n",
       "2         3/21/2014           11      5.298507           18              20   \n",
       "3        12/26/2013           97     27.863636           73              11   \n",
       "4         3/27/2014            5      4.788079           47              27   \n",
       "\n",
       "   avg_discount  Points_Sum  Point_NotFlight  \n",
       "0      0.961639      619760               50  \n",
       "1      1.252314      415768               33  \n",
       "2      1.254676      406361               26  \n",
       "3      1.090870      372204               12  \n",
       "4      0.970658      338813               39  \n",
       "\n",
       "[5 rows x 23 columns]"
      ]
     },
     "execution_count": 3,
     "metadata": {},
     "output_type": "execute_result"
    }
   ],
   "source": [
    "#view the data\n",
    "data.head()"
   ]
  },
  {
   "cell_type": "markdown",
   "id": "a6c7040e",
   "metadata": {},
   "source": [
    "##  Exploratory Data Analysis"
   ]
  },
  {
   "cell_type": "code",
   "execution_count": 4,
   "id": "949b61eb",
   "metadata": {},
   "outputs": [
    {
     "data": {
      "text/plain": [
       "Index(['MEMBER_NO', 'FFP_DATE', 'FIRST_FLIGHT_DATE', 'GENDER', 'FFP_TIER',\n",
       "       'WORK_CITY', 'WORK_PROVINCE', 'WORK_COUNTRY', 'AGE', 'LOAD_TIME',\n",
       "       'FLIGHT_COUNT', 'BP_SUM', 'SUM_YR_1', 'SUM_YR_2', 'SEG_KM_SUM',\n",
       "       'LAST_FLIGHT_DATE', 'LAST_TO_END', 'AVG_INTERVAL', 'MAX_INTERVAL',\n",
       "       'EXCHANGE_COUNT', 'avg_discount', 'Points_Sum', 'Point_NotFlight'],\n",
       "      dtype='object')"
      ]
     },
     "execution_count": 4,
     "metadata": {},
     "output_type": "execute_result"
    }
   ],
   "source": [
    "#print all column name\n",
    "data.columns"
   ]
  },
  {
   "cell_type": "markdown",
   "id": "5fc4b5f1",
   "metadata": {},
   "source": [
    "we can see that some of the columns are not necessary for this  project, which will only increase the dimensionality. It is better to remove in the preprocessing phase"
   ]
  },
  {
   "cell_type": "code",
   "execution_count": 5,
   "id": "442e7b74",
   "metadata": {},
   "outputs": [
    {
     "data": {
      "text/plain": [
       "(55000, 23)"
      ]
     },
     "execution_count": 5,
     "metadata": {},
     "output_type": "execute_result"
    }
   ],
   "source": [
    "#Check for the shape of the data\n",
    "data.shape"
   ]
  },
  {
   "cell_type": "code",
   "execution_count": 6,
   "id": "5d27145f",
   "metadata": {},
   "outputs": [
    {
     "name": "stdout",
     "output_type": "stream",
     "text": [
      "<class 'pandas.core.frame.DataFrame'>\n",
      "RangeIndex: 55000 entries, 0 to 54999\n",
      "Data columns (total 23 columns):\n",
      " #   Column             Non-Null Count  Dtype  \n",
      "---  ------             --------------  -----  \n",
      " 0   MEMBER_NO          55000 non-null  int64  \n",
      " 1   FFP_DATE           55000 non-null  object \n",
      " 2   FIRST_FLIGHT_DATE  55000 non-null  object \n",
      " 3   GENDER             54997 non-null  object \n",
      " 4   FFP_TIER           55000 non-null  int64  \n",
      " 5   WORK_CITY          53034 non-null  object \n",
      " 6   WORK_PROVINCE      52216 non-null  object \n",
      " 7   WORK_COUNTRY       54980 non-null  object \n",
      " 8   AGE                54658 non-null  float64\n",
      " 9   LOAD_TIME          55000 non-null  object \n",
      " 10  FLIGHT_COUNT       55000 non-null  int64  \n",
      " 11  BP_SUM             55000 non-null  int64  \n",
      " 12  SUM_YR_1           54738 non-null  float64\n",
      " 13  SUM_YR_2           54937 non-null  float64\n",
      " 14  SEG_KM_SUM         55000 non-null  int64  \n",
      " 15  LAST_FLIGHT_DATE   55000 non-null  object \n",
      " 16  LAST_TO_END        55000 non-null  int64  \n",
      " 17  AVG_INTERVAL       55000 non-null  float64\n",
      " 18  MAX_INTERVAL       55000 non-null  int64  \n",
      " 19  EXCHANGE_COUNT     55000 non-null  int64  \n",
      " 20  avg_discount       55000 non-null  float64\n",
      " 21  Points_Sum         55000 non-null  int64  \n",
      " 22  Point_NotFlight    55000 non-null  int64  \n",
      "dtypes: float64(5), int64(10), object(8)\n",
      "memory usage: 9.7+ MB\n"
     ]
    }
   ],
   "source": [
    "#check for basic details\n",
    "data.info()"
   ]
  },
  {
   "cell_type": "code",
   "execution_count": 7,
   "id": "968d09dc",
   "metadata": {},
   "outputs": [
    {
     "data": {
      "text/html": [
       "<div>\n",
       "<style scoped>\n",
       "    .dataframe tbody tr th:only-of-type {\n",
       "        vertical-align: middle;\n",
       "    }\n",
       "\n",
       "    .dataframe tbody tr th {\n",
       "        vertical-align: top;\n",
       "    }\n",
       "\n",
       "    .dataframe thead th {\n",
       "        text-align: right;\n",
       "    }\n",
       "</style>\n",
       "<table border=\"1\" class=\"dataframe\">\n",
       "  <thead>\n",
       "    <tr style=\"text-align: right;\">\n",
       "      <th></th>\n",
       "      <th>MEMBER_NO</th>\n",
       "      <th>FFP_TIER</th>\n",
       "      <th>AGE</th>\n",
       "      <th>FLIGHT_COUNT</th>\n",
       "      <th>BP_SUM</th>\n",
       "      <th>SUM_YR_1</th>\n",
       "      <th>SUM_YR_2</th>\n",
       "      <th>SEG_KM_SUM</th>\n",
       "      <th>LAST_TO_END</th>\n",
       "      <th>AVG_INTERVAL</th>\n",
       "      <th>MAX_INTERVAL</th>\n",
       "      <th>EXCHANGE_COUNT</th>\n",
       "      <th>avg_discount</th>\n",
       "      <th>Points_Sum</th>\n",
       "      <th>Point_NotFlight</th>\n",
       "    </tr>\n",
       "  </thead>\n",
       "  <tbody>\n",
       "    <tr>\n",
       "      <th>count</th>\n",
       "      <td>55000.000000</td>\n",
       "      <td>55000.000000</td>\n",
       "      <td>54658.000000</td>\n",
       "      <td>55000.000000</td>\n",
       "      <td>55000.000000</td>\n",
       "      <td>54738.000000</td>\n",
       "      <td>54937.000000</td>\n",
       "      <td>55000.000000</td>\n",
       "      <td>55000.000000</td>\n",
       "      <td>55000.000000</td>\n",
       "      <td>55000.000000</td>\n",
       "      <td>55000.000000</td>\n",
       "      <td>55000.000000</td>\n",
       "      <td>55000.00000</td>\n",
       "      <td>55000.000000</td>\n",
       "    </tr>\n",
       "    <tr>\n",
       "      <th>mean</th>\n",
       "      <td>31549.707145</td>\n",
       "      <td>4.115727</td>\n",
       "      <td>42.705789</td>\n",
       "      <td>13.213527</td>\n",
       "      <td>12362.465164</td>\n",
       "      <td>6002.575145</td>\n",
       "      <td>6325.644993</td>\n",
       "      <td>19256.688255</td>\n",
       "      <td>155.593436</td>\n",
       "      <td>62.979631</td>\n",
       "      <td>172.201745</td>\n",
       "      <td>0.361727</td>\n",
       "      <td>0.736753</td>\n",
       "      <td>14102.26780</td>\n",
       "      <td>2.827073</td>\n",
       "    </tr>\n",
       "    <tr>\n",
       "      <th>std</th>\n",
       "      <td>18177.005101</td>\n",
       "      <td>0.395579</td>\n",
       "      <td>9.803796</td>\n",
       "      <td>14.528764</td>\n",
       "      <td>17012.468908</td>\n",
       "      <td>8458.072660</td>\n",
       "      <td>9080.805391</td>\n",
       "      <td>21613.796416</td>\n",
       "      <td>169.987954</td>\n",
       "      <td>64.506386</td>\n",
       "      <td>117.382011</td>\n",
       "      <td>1.201922</td>\n",
       "      <td>0.177283</td>\n",
       "      <td>21049.88039</td>\n",
       "      <td>7.526118</td>\n",
       "    </tr>\n",
       "    <tr>\n",
       "      <th>min</th>\n",
       "      <td>1.000000</td>\n",
       "      <td>4.000000</td>\n",
       "      <td>6.000000</td>\n",
       "      <td>2.000000</td>\n",
       "      <td>0.000000</td>\n",
       "      <td>0.000000</td>\n",
       "      <td>0.000000</td>\n",
       "      <td>1380.000000</td>\n",
       "      <td>1.000000</td>\n",
       "      <td>0.000000</td>\n",
       "      <td>0.000000</td>\n",
       "      <td>0.000000</td>\n",
       "      <td>0.136017</td>\n",
       "      <td>0.00000</td>\n",
       "      <td>0.000000</td>\n",
       "    </tr>\n",
       "    <tr>\n",
       "      <th>25%</th>\n",
       "      <td>15798.750000</td>\n",
       "      <td>4.000000</td>\n",
       "      <td>35.000000</td>\n",
       "      <td>4.000000</td>\n",
       "      <td>3497.000000</td>\n",
       "      <td>1400.000000</td>\n",
       "      <td>1300.000000</td>\n",
       "      <td>6332.000000</td>\n",
       "      <td>25.000000</td>\n",
       "      <td>25.166667</td>\n",
       "      <td>90.000000</td>\n",
       "      <td>0.000000</td>\n",
       "      <td>0.629210</td>\n",
       "      <td>3796.00000</td>\n",
       "      <td>0.000000</td>\n",
       "    </tr>\n",
       "    <tr>\n",
       "      <th>50%</th>\n",
       "      <td>31559.500000</td>\n",
       "      <td>4.000000</td>\n",
       "      <td>42.000000</td>\n",
       "      <td>8.000000</td>\n",
       "      <td>6903.000000</td>\n",
       "      <td>3426.500000</td>\n",
       "      <td>3484.000000</td>\n",
       "      <td>11983.000000</td>\n",
       "      <td>91.000000</td>\n",
       "      <td>44.600000</td>\n",
       "      <td>149.000000</td>\n",
       "      <td>0.000000</td>\n",
       "      <td>0.720056</td>\n",
       "      <td>7611.00000</td>\n",
       "      <td>0.000000</td>\n",
       "    </tr>\n",
       "    <tr>\n",
       "      <th>75%</th>\n",
       "      <td>47322.250000</td>\n",
       "      <td>4.000000</td>\n",
       "      <td>48.000000</td>\n",
       "      <td>16.000000</td>\n",
       "      <td>14481.000000</td>\n",
       "      <td>7406.000000</td>\n",
       "      <td>7760.000000</td>\n",
       "      <td>23761.500000</td>\n",
       "      <td>226.000000</td>\n",
       "      <td>77.500000</td>\n",
       "      <td>230.000000</td>\n",
       "      <td>0.000000</td>\n",
       "      <td>0.813888</td>\n",
       "      <td>16046.75000</td>\n",
       "      <td>1.000000</td>\n",
       "    </tr>\n",
       "    <tr>\n",
       "      <th>max</th>\n",
       "      <td>62988.000000</td>\n",
       "      <td>6.000000</td>\n",
       "      <td>110.000000</td>\n",
       "      <td>213.000000</td>\n",
       "      <td>505308.000000</td>\n",
       "      <td>239560.000000</td>\n",
       "      <td>234188.000000</td>\n",
       "      <td>580717.000000</td>\n",
       "      <td>730.000000</td>\n",
       "      <td>714.000000</td>\n",
       "      <td>719.000000</td>\n",
       "      <td>46.000000</td>\n",
       "      <td>1.500000</td>\n",
       "      <td>795398.00000</td>\n",
       "      <td>140.000000</td>\n",
       "    </tr>\n",
       "  </tbody>\n",
       "</table>\n",
       "</div>"
      ],
      "text/plain": [
       "          MEMBER_NO      FFP_TIER           AGE  FLIGHT_COUNT         BP_SUM  \\\n",
       "count  55000.000000  55000.000000  54658.000000  55000.000000   55000.000000   \n",
       "mean   31549.707145      4.115727     42.705789     13.213527   12362.465164   \n",
       "std    18177.005101      0.395579      9.803796     14.528764   17012.468908   \n",
       "min        1.000000      4.000000      6.000000      2.000000       0.000000   \n",
       "25%    15798.750000      4.000000     35.000000      4.000000    3497.000000   \n",
       "50%    31559.500000      4.000000     42.000000      8.000000    6903.000000   \n",
       "75%    47322.250000      4.000000     48.000000     16.000000   14481.000000   \n",
       "max    62988.000000      6.000000    110.000000    213.000000  505308.000000   \n",
       "\n",
       "            SUM_YR_1       SUM_YR_2     SEG_KM_SUM   LAST_TO_END  \\\n",
       "count   54738.000000   54937.000000   55000.000000  55000.000000   \n",
       "mean     6002.575145    6325.644993   19256.688255    155.593436   \n",
       "std      8458.072660    9080.805391   21613.796416    169.987954   \n",
       "min         0.000000       0.000000    1380.000000      1.000000   \n",
       "25%      1400.000000    1300.000000    6332.000000     25.000000   \n",
       "50%      3426.500000    3484.000000   11983.000000     91.000000   \n",
       "75%      7406.000000    7760.000000   23761.500000    226.000000   \n",
       "max    239560.000000  234188.000000  580717.000000    730.000000   \n",
       "\n",
       "       AVG_INTERVAL  MAX_INTERVAL  EXCHANGE_COUNT  avg_discount    Points_Sum  \\\n",
       "count  55000.000000  55000.000000    55000.000000  55000.000000   55000.00000   \n",
       "mean      62.979631    172.201745        0.361727      0.736753   14102.26780   \n",
       "std       64.506386    117.382011        1.201922      0.177283   21049.88039   \n",
       "min        0.000000      0.000000        0.000000      0.136017       0.00000   \n",
       "25%       25.166667     90.000000        0.000000      0.629210    3796.00000   \n",
       "50%       44.600000    149.000000        0.000000      0.720056    7611.00000   \n",
       "75%       77.500000    230.000000        0.000000      0.813888   16046.75000   \n",
       "max      714.000000    719.000000       46.000000      1.500000  795398.00000   \n",
       "\n",
       "       Point_NotFlight  \n",
       "count     55000.000000  \n",
       "mean          2.827073  \n",
       "std           7.526118  \n",
       "min           0.000000  \n",
       "25%           0.000000  \n",
       "50%           0.000000  \n",
       "75%           1.000000  \n",
       "max         140.000000  "
      ]
     },
     "execution_count": 7,
     "metadata": {},
     "output_type": "execute_result"
    }
   ],
   "source": [
    "#check for statistical details\n",
    "data.describe()"
   ]
  },
  {
   "cell_type": "code",
   "execution_count": 8,
   "id": "68668071",
   "metadata": {},
   "outputs": [
    {
     "data": {
      "text/plain": [
       "0"
      ]
     },
     "execution_count": 8,
     "metadata": {},
     "output_type": "execute_result"
    }
   ],
   "source": [
    "#check for duplicate values\n",
    "data.duplicated().sum()"
   ]
  },
  {
   "cell_type": "code",
   "execution_count": 9,
   "id": "d39415f7",
   "metadata": {},
   "outputs": [
    {
     "data": {
      "text/plain": [
       "MEMBER_NO               0\n",
       "FFP_DATE                0\n",
       "FIRST_FLIGHT_DATE       0\n",
       "GENDER                  3\n",
       "FFP_TIER                0\n",
       "WORK_CITY            1966\n",
       "WORK_PROVINCE        2784\n",
       "WORK_COUNTRY           20\n",
       "AGE                   342\n",
       "LOAD_TIME               0\n",
       "FLIGHT_COUNT            0\n",
       "BP_SUM                  0\n",
       "SUM_YR_1              262\n",
       "SUM_YR_2               63\n",
       "SEG_KM_SUM              0\n",
       "LAST_FLIGHT_DATE        0\n",
       "LAST_TO_END             0\n",
       "AVG_INTERVAL            0\n",
       "MAX_INTERVAL            0\n",
       "EXCHANGE_COUNT          0\n",
       "avg_discount            0\n",
       "Points_Sum              0\n",
       "Point_NotFlight         0\n",
       "dtype: int64"
      ]
     },
     "execution_count": 9,
     "metadata": {},
     "output_type": "execute_result"
    }
   ],
   "source": [
    "#check for null values\n",
    "data.isnull().sum()"
   ]
  },
  {
   "cell_type": "markdown",
   "id": "4bcbff5e",
   "metadata": {},
   "source": [
    "##  PreProcessing"
   ]
  },
  {
   "cell_type": "markdown",
   "id": "540669c7",
   "metadata": {},
   "source": [
    "### 1. fill null values"
   ]
  },
  {
   "cell_type": "markdown",
   "id": "85b21f8c",
   "metadata": {},
   "source": [
    "There is no method to fill null values in WORK_CITY column. we cannot fill it with most occuring value or any other method because it could give wrong information. so , sometimes it is better to remove them."
   ]
  },
  {
   "cell_type": "code",
   "execution_count": 10,
   "id": "e186f382",
   "metadata": {},
   "outputs": [
    {
     "data": {
      "text/plain": [
       "0         True\n",
       "1        False\n",
       "2         True\n",
       "3         True\n",
       "4         True\n",
       "         ...  \n",
       "54995     True\n",
       "54996     True\n",
       "54997     True\n",
       "54998     True\n",
       "54999     True\n",
       "Name: WORK_CITY, Length: 55000, dtype: bool"
      ]
     },
     "execution_count": 10,
     "metadata": {},
     "output_type": "execute_result"
    }
   ],
   "source": [
    "data[\"WORK_CITY\"].notnull()"
   ]
  },
  {
   "cell_type": "code",
   "execution_count": 11,
   "id": "c1f0ad37",
   "metadata": {},
   "outputs": [],
   "source": [
    "#remove null values from the data of WORK_CITY and WORK_PROVINCE\n",
    "data = data[data[\"WORK_CITY\"].notnull()& data[\"WORK_PROVINCE\"].notnull()]\n",
    "data = data[data[\"WORK_COUNTRY\"].notnull()]"
   ]
  },
  {
   "cell_type": "code",
   "execution_count": 12,
   "id": "56af091b",
   "metadata": {},
   "outputs": [
    {
     "data": {
      "text/plain": [
       "MEMBER_NO              0\n",
       "FFP_DATE               0\n",
       "FIRST_FLIGHT_DATE      0\n",
       "GENDER                 3\n",
       "FFP_TIER               0\n",
       "WORK_CITY              0\n",
       "WORK_PROVINCE          0\n",
       "WORK_COUNTRY           0\n",
       "AGE                  268\n",
       "LOAD_TIME              0\n",
       "FLIGHT_COUNT           0\n",
       "BP_SUM                 0\n",
       "SUM_YR_1             249\n",
       "SUM_YR_2              60\n",
       "SEG_KM_SUM             0\n",
       "LAST_FLIGHT_DATE       0\n",
       "LAST_TO_END            0\n",
       "AVG_INTERVAL           0\n",
       "MAX_INTERVAL           0\n",
       "EXCHANGE_COUNT         0\n",
       "avg_discount           0\n",
       "Points_Sum             0\n",
       "Point_NotFlight        0\n",
       "dtype: int64"
      ]
     },
     "execution_count": 12,
     "metadata": {},
     "output_type": "execute_result"
    }
   ],
   "source": [
    "#chck for null values after removing them\n",
    "data.isnull().sum()"
   ]
  },
  {
   "cell_type": "code",
   "execution_count": 13,
   "id": "57288ee8",
   "metadata": {},
   "outputs": [
    {
     "data": {
      "text/plain": [
       "0"
      ]
     },
     "execution_count": 13,
     "metadata": {},
     "output_type": "execute_result"
    }
   ],
   "source": [
    "#filling null vaues in Aege column with mean value\n",
    "data[\"AGE\"] = data[\"AGE\"].fillna(data[\"AGE\"].mean())\n",
    "\n",
    "#check for nul values\n",
    "data[\"AGE\"].isnull().sum()"
   ]
  },
  {
   "cell_type": "code",
   "execution_count": 14,
   "id": "2070cbb1",
   "metadata": {},
   "outputs": [
    {
     "name": "stdout",
     "output_type": "stream",
     "text": [
      "0\n",
      "0\n"
     ]
    }
   ],
   "source": [
    "#fill null values in SUM_YR_1 and SUM_YR_2 column using linear interpolation method\n",
    "data[\"SUM_YR_1\"].interpolate(method = \"linear\", inplace = True)\n",
    "data[\"SUM_YR_2\"].interpolate(method = \"linear\", inplace = True)\n",
    "\n",
    "#check fo null values\n",
    "print(data[\"SUM_YR_1\"].isnull().sum())\n",
    "print(data[\"SUM_YR_2\"].isnull().sum())"
   ]
  },
  {
   "cell_type": "markdown",
   "id": "8ac91ec6",
   "metadata": {},
   "source": [
    "### 2. Drop Columns"
   ]
  },
  {
   "cell_type": "code",
   "execution_count": 15,
   "id": "64954ddb",
   "metadata": {},
   "outputs": [
    {
     "data": {
      "text/plain": [
       "MEMBER_NO            51763\n",
       "FFP_DATE              3062\n",
       "FIRST_FLIGHT_DATE     3387\n",
       "GENDER                   2\n",
       "FFP_TIER                 3\n",
       "WORK_CITY             2733\n",
       "WORK_PROVINCE         1036\n",
       "WORK_COUNTRY            98\n",
       "AGE                     83\n",
       "LOAD_TIME                1\n",
       "FLIGHT_COUNT           151\n",
       "BP_SUM               22289\n",
       "SUM_YR_1             15385\n",
       "SUM_YR_2             16322\n",
       "SEG_KM_SUM           27228\n",
       "LAST_FLIGHT_DATE       729\n",
       "LAST_TO_END            729\n",
       "AVG_INTERVAL         10460\n",
       "MAX_INTERVAL           690\n",
       "EXCHANGE_COUNT          27\n",
       "avg_discount         47259\n",
       "Points_Sum           23726\n",
       "Point_NotFlight         99\n",
       "dtype: int64"
      ]
     },
     "execution_count": 15,
     "metadata": {},
     "output_type": "execute_result"
    }
   ],
   "source": [
    "#check for each number of unique values in each categorical column\n",
    "data.nunique()"
   ]
  },
  {
   "cell_type": "code",
   "execution_count": 16,
   "id": "6c5ee34c",
   "metadata": {},
   "outputs": [
    {
     "data": {
      "text/plain": [
       "Male      39893\n",
       "Female    11867\n",
       "Name: GENDER, dtype: int64"
      ]
     },
     "execution_count": 16,
     "metadata": {},
     "output_type": "execute_result"
    }
   ],
   "source": [
    "data[\"GENDER\"].value_counts()"
   ]
  },
  {
   "cell_type": "code",
   "execution_count": 17,
   "id": "059b5262",
   "metadata": {},
   "outputs": [
    {
     "data": {
      "text/plain": [
       "CN    48812\n",
       "JP      686\n",
       "KR      563\n",
       "US      445\n",
       "HK      333\n",
       "      ...  \n",
       "SE        1\n",
       "BB        1\n",
       "BI        1\n",
       "YE        1\n",
       "ZA        1\n",
       "Name: WORK_COUNTRY, Length: 98, dtype: int64"
      ]
     },
     "execution_count": 17,
     "metadata": {},
     "output_type": "execute_result"
    }
   ],
   "source": [
    "data[\"WORK_COUNTRY\"].value_counts()"
   ]
  },
  {
   "cell_type": "code",
   "execution_count": 18,
   "id": "62f787d4",
   "metadata": {},
   "outputs": [],
   "source": [
    "#keeping only those countries which has maximum number of passengers to reduce the data dimensionality\n",
    "list1 = [\"CN\",\"KR\",\"US\",\"HK\",\"JP\",\"AU\",\"MY\"]"
   ]
  },
  {
   "cell_type": "code",
   "execution_count": 19,
   "id": "8930788e",
   "metadata": {},
   "outputs": [
    {
     "data": {
      "text/plain": [
       "(51763, 23)"
      ]
     },
     "execution_count": 19,
     "metadata": {},
     "output_type": "execute_result"
    }
   ],
   "source": [
    "data.shape"
   ]
  },
  {
   "cell_type": "code",
   "execution_count": 20,
   "id": "e338a94a",
   "metadata": {},
   "outputs": [],
   "source": [
    "data = data.loc[data.WORK_COUNTRY.isin(list1)]"
   ]
  },
  {
   "cell_type": "code",
   "execution_count": 21,
   "id": "e58a5722",
   "metadata": {},
   "outputs": [
    {
     "data": {
      "text/plain": [
       "(51159, 23)"
      ]
     },
     "execution_count": 21,
     "metadata": {},
     "output_type": "execute_result"
    }
   ],
   "source": [
    "data.shape"
   ]
  },
  {
   "cell_type": "code",
   "execution_count": 22,
   "id": "8ee2c4a5",
   "metadata": {},
   "outputs": [
    {
     "data": {
      "text/html": [
       "<div>\n",
       "<style scoped>\n",
       "    .dataframe tbody tr th:only-of-type {\n",
       "        vertical-align: middle;\n",
       "    }\n",
       "\n",
       "    .dataframe tbody tr th {\n",
       "        vertical-align: top;\n",
       "    }\n",
       "\n",
       "    .dataframe thead th {\n",
       "        text-align: right;\n",
       "    }\n",
       "</style>\n",
       "<table border=\"1\" class=\"dataframe\">\n",
       "  <thead>\n",
       "    <tr style=\"text-align: right;\">\n",
       "      <th></th>\n",
       "      <th>FFP_DATE</th>\n",
       "      <th>FIRST_FLIGHT_DATE</th>\n",
       "      <th>GENDER</th>\n",
       "      <th>WORK_CITY</th>\n",
       "      <th>WORK_PROVINCE</th>\n",
       "      <th>WORK_COUNTRY</th>\n",
       "      <th>LOAD_TIME</th>\n",
       "      <th>LAST_FLIGHT_DATE</th>\n",
       "    </tr>\n",
       "  </thead>\n",
       "  <tbody>\n",
       "    <tr>\n",
       "      <th>0</th>\n",
       "      <td>11/2/2006</td>\n",
       "      <td>12/24/2008</td>\n",
       "      <td>Male</td>\n",
       "      <td>.</td>\n",
       "      <td>beijing</td>\n",
       "      <td>CN</td>\n",
       "      <td>3/31/2014</td>\n",
       "      <td>3/31/2014</td>\n",
       "    </tr>\n",
       "    <tr>\n",
       "      <th>2</th>\n",
       "      <td>2/1/2007</td>\n",
       "      <td>8/30/2007</td>\n",
       "      <td>Male</td>\n",
       "      <td>.</td>\n",
       "      <td>beijing</td>\n",
       "      <td>CN</td>\n",
       "      <td>3/31/2014</td>\n",
       "      <td>3/21/2014</td>\n",
       "    </tr>\n",
       "    <tr>\n",
       "      <th>3</th>\n",
       "      <td>8/22/2008</td>\n",
       "      <td>8/23/2008</td>\n",
       "      <td>Male</td>\n",
       "      <td>Los Angeles</td>\n",
       "      <td>CA</td>\n",
       "      <td>US</td>\n",
       "      <td>3/31/2014</td>\n",
       "      <td>12/26/2013</td>\n",
       "    </tr>\n",
       "    <tr>\n",
       "      <th>4</th>\n",
       "      <td>4/10/2009</td>\n",
       "      <td>4/15/2009</td>\n",
       "      <td>Male</td>\n",
       "      <td>guiyang</td>\n",
       "      <td>guizhou</td>\n",
       "      <td>CN</td>\n",
       "      <td>3/31/2014</td>\n",
       "      <td>3/27/2014</td>\n",
       "    </tr>\n",
       "    <tr>\n",
       "      <th>5</th>\n",
       "      <td>2/10/2008</td>\n",
       "      <td>9/29/2009</td>\n",
       "      <td>Male</td>\n",
       "      <td>guangzhou</td>\n",
       "      <td>guangdong</td>\n",
       "      <td>CN</td>\n",
       "      <td>3/31/2014</td>\n",
       "      <td>1/13/2014</td>\n",
       "    </tr>\n",
       "    <tr>\n",
       "      <th>...</th>\n",
       "      <td>...</td>\n",
       "      <td>...</td>\n",
       "      <td>...</td>\n",
       "      <td>...</td>\n",
       "      <td>...</td>\n",
       "      <td>...</td>\n",
       "      <td>...</td>\n",
       "      <td>...</td>\n",
       "    </tr>\n",
       "    <tr>\n",
       "      <th>54995</th>\n",
       "      <td>1/29/2013</td>\n",
       "      <td>1/29/2013</td>\n",
       "      <td>Male</td>\n",
       "      <td>shenzhen</td>\n",
       "      <td>guangdong</td>\n",
       "      <td>CN</td>\n",
       "      <td>3/31/2014</td>\n",
       "      <td>3/30/2013</td>\n",
       "    </tr>\n",
       "    <tr>\n",
       "      <th>54996</th>\n",
       "      <td>11/14/2008</td>\n",
       "      <td>12/12/2008</td>\n",
       "      <td>Male</td>\n",
       "      <td>guangzhou</td>\n",
       "      <td>guangdong</td>\n",
       "      <td>CN</td>\n",
       "      <td>3/31/2014</td>\n",
       "      <td>3/11/2013</td>\n",
       "    </tr>\n",
       "    <tr>\n",
       "      <th>54997</th>\n",
       "      <td>4/29/2011</td>\n",
       "      <td>4/29/2011</td>\n",
       "      <td>Male</td>\n",
       "      <td>shanghai</td>\n",
       "      <td>shanghai</td>\n",
       "      <td>CN</td>\n",
       "      <td>3/31/2014</td>\n",
       "      <td>9/9/2012</td>\n",
       "    </tr>\n",
       "    <tr>\n",
       "      <th>54998</th>\n",
       "      <td>6/18/2010</td>\n",
       "      <td>6/18/2010</td>\n",
       "      <td>Female</td>\n",
       "      <td>benxishi</td>\n",
       "      <td>liaoningsheng</td>\n",
       "      <td>CN</td>\n",
       "      <td>3/31/2014</td>\n",
       "      <td>3/10/2014</td>\n",
       "    </tr>\n",
       "    <tr>\n",
       "      <th>54999</th>\n",
       "      <td>12/18/2008</td>\n",
       "      <td>2/12/2013</td>\n",
       "      <td>Male</td>\n",
       "      <td>zhongqing</td>\n",
       "      <td>zhongqing</td>\n",
       "      <td>CN</td>\n",
       "      <td>3/31/2014</td>\n",
       "      <td>2/14/2013</td>\n",
       "    </tr>\n",
       "  </tbody>\n",
       "</table>\n",
       "<p>51159 rows × 8 columns</p>\n",
       "</div>"
      ],
      "text/plain": [
       "         FFP_DATE FIRST_FLIGHT_DATE  GENDER    WORK_CITY  WORK_PROVINCE  \\\n",
       "0       11/2/2006        12/24/2008    Male            .        beijing   \n",
       "2        2/1/2007         8/30/2007    Male            .        beijing   \n",
       "3       8/22/2008         8/23/2008    Male  Los Angeles             CA   \n",
       "4       4/10/2009         4/15/2009    Male      guiyang        guizhou   \n",
       "5       2/10/2008         9/29/2009    Male    guangzhou      guangdong   \n",
       "...           ...               ...     ...          ...            ...   \n",
       "54995   1/29/2013         1/29/2013    Male     shenzhen      guangdong   \n",
       "54996  11/14/2008        12/12/2008    Male    guangzhou      guangdong   \n",
       "54997   4/29/2011         4/29/2011    Male     shanghai       shanghai   \n",
       "54998   6/18/2010         6/18/2010  Female     benxishi  liaoningsheng   \n",
       "54999  12/18/2008         2/12/2013    Male    zhongqing      zhongqing   \n",
       "\n",
       "      WORK_COUNTRY  LOAD_TIME LAST_FLIGHT_DATE  \n",
       "0               CN  3/31/2014        3/31/2014  \n",
       "2               CN  3/31/2014        3/21/2014  \n",
       "3               US  3/31/2014       12/26/2013  \n",
       "4               CN  3/31/2014        3/27/2014  \n",
       "5               CN  3/31/2014        1/13/2014  \n",
       "...            ...        ...              ...  \n",
       "54995           CN  3/31/2014        3/30/2013  \n",
       "54996           CN  3/31/2014        3/11/2013  \n",
       "54997           CN  3/31/2014         9/9/2012  \n",
       "54998           CN  3/31/2014        3/10/2014  \n",
       "54999           CN  3/31/2014        2/14/2013  \n",
       "\n",
       "[51159 rows x 8 columns]"
      ]
     },
     "execution_count": 22,
     "metadata": {},
     "output_type": "execute_result"
    }
   ],
   "source": [
    "#show features with object data types\n",
    "data.select_dtypes(include = \"object\")"
   ]
  },
  {
   "cell_type": "code",
   "execution_count": 23,
   "id": "7c425d65",
   "metadata": {},
   "outputs": [],
   "source": [
    "#drop columns\n",
    "data = data.drop(columns = [\"MEMBER_NO\",\"FFP_DATE\",\"FIRST_FLIGHT_DATE\",\"WORK_CITY\",\"WORK_PROVINCE\",\"LOAD_TIME\",\"LAST_FLIGHT_DATE\",],axis = 1)"
   ]
  },
  {
   "cell_type": "code",
   "execution_count": 24,
   "id": "33f8138b",
   "metadata": {},
   "outputs": [
    {
     "data": {
      "text/plain": [
       "(51159, 16)"
      ]
     },
     "execution_count": 24,
     "metadata": {},
     "output_type": "execute_result"
    }
   ],
   "source": [
    "#check for data shape\n",
    "data.shape"
   ]
  },
  {
   "cell_type": "code",
   "execution_count": 25,
   "id": "cfa59c2d",
   "metadata": {},
   "outputs": [
    {
     "name": "stdout",
     "output_type": "stream",
     "text": [
      "<class 'pandas.core.frame.DataFrame'>\n",
      "Int64Index: 51159 entries, 0 to 54999\n",
      "Data columns (total 16 columns):\n",
      " #   Column           Non-Null Count  Dtype  \n",
      "---  ------           --------------  -----  \n",
      " 0   GENDER           51156 non-null  object \n",
      " 1   FFP_TIER         51159 non-null  int64  \n",
      " 2   WORK_COUNTRY     51159 non-null  object \n",
      " 3   AGE              51159 non-null  float64\n",
      " 4   FLIGHT_COUNT     51159 non-null  int64  \n",
      " 5   BP_SUM           51159 non-null  int64  \n",
      " 6   SUM_YR_1         51159 non-null  float64\n",
      " 7   SUM_YR_2         51159 non-null  float64\n",
      " 8   SEG_KM_SUM       51159 non-null  int64  \n",
      " 9   LAST_TO_END      51159 non-null  int64  \n",
      " 10  AVG_INTERVAL     51159 non-null  float64\n",
      " 11  MAX_INTERVAL     51159 non-null  int64  \n",
      " 12  EXCHANGE_COUNT   51159 non-null  int64  \n",
      " 13  avg_discount     51159 non-null  float64\n",
      " 14  Points_Sum       51159 non-null  int64  \n",
      " 15  Point_NotFlight  51159 non-null  int64  \n",
      "dtypes: float64(5), int64(9), object(2)\n",
      "memory usage: 6.6+ MB\n"
     ]
    }
   ],
   "source": [
    "#check for basic information\n",
    "data.info()"
   ]
  },
  {
   "cell_type": "markdown",
   "id": "ebae8303",
   "metadata": {},
   "source": [
    "### 3.Encoding"
   ]
  },
  {
   "cell_type": "code",
   "execution_count": 26,
   "id": "852839f8",
   "metadata": {},
   "outputs": [],
   "source": [
    "data = pd.get_dummies(data, columns = [\"GENDER\"])"
   ]
  },
  {
   "cell_type": "code",
   "execution_count": 27,
   "id": "ad60eb73",
   "metadata": {},
   "outputs": [
    {
     "data": {
      "text/html": [
       "<div>\n",
       "<style scoped>\n",
       "    .dataframe tbody tr th:only-of-type {\n",
       "        vertical-align: middle;\n",
       "    }\n",
       "\n",
       "    .dataframe tbody tr th {\n",
       "        vertical-align: top;\n",
       "    }\n",
       "\n",
       "    .dataframe thead th {\n",
       "        text-align: right;\n",
       "    }\n",
       "</style>\n",
       "<table border=\"1\" class=\"dataframe\">\n",
       "  <thead>\n",
       "    <tr style=\"text-align: right;\">\n",
       "      <th></th>\n",
       "      <th>FFP_TIER</th>\n",
       "      <th>WORK_COUNTRY</th>\n",
       "      <th>AGE</th>\n",
       "      <th>FLIGHT_COUNT</th>\n",
       "      <th>BP_SUM</th>\n",
       "      <th>SUM_YR_1</th>\n",
       "      <th>SUM_YR_2</th>\n",
       "      <th>SEG_KM_SUM</th>\n",
       "      <th>LAST_TO_END</th>\n",
       "      <th>AVG_INTERVAL</th>\n",
       "      <th>MAX_INTERVAL</th>\n",
       "      <th>EXCHANGE_COUNT</th>\n",
       "      <th>avg_discount</th>\n",
       "      <th>Points_Sum</th>\n",
       "      <th>Point_NotFlight</th>\n",
       "      <th>GENDER_Female</th>\n",
       "      <th>GENDER_Male</th>\n",
       "    </tr>\n",
       "  </thead>\n",
       "  <tbody>\n",
       "    <tr>\n",
       "      <th>0</th>\n",
       "      <td>6</td>\n",
       "      <td>CN</td>\n",
       "      <td>31.0</td>\n",
       "      <td>210</td>\n",
       "      <td>505308</td>\n",
       "      <td>239560.0</td>\n",
       "      <td>234188.0</td>\n",
       "      <td>580717</td>\n",
       "      <td>1</td>\n",
       "      <td>3.483254</td>\n",
       "      <td>18</td>\n",
       "      <td>34</td>\n",
       "      <td>0.961639</td>\n",
       "      <td>619760</td>\n",
       "      <td>50</td>\n",
       "      <td>0</td>\n",
       "      <td>1</td>\n",
       "    </tr>\n",
       "    <tr>\n",
       "      <th>2</th>\n",
       "      <td>6</td>\n",
       "      <td>CN</td>\n",
       "      <td>40.0</td>\n",
       "      <td>135</td>\n",
       "      <td>351159</td>\n",
       "      <td>163618.0</td>\n",
       "      <td>164982.0</td>\n",
       "      <td>283712</td>\n",
       "      <td>11</td>\n",
       "      <td>5.298507</td>\n",
       "      <td>18</td>\n",
       "      <td>20</td>\n",
       "      <td>1.254676</td>\n",
       "      <td>406361</td>\n",
       "      <td>26</td>\n",
       "      <td>0</td>\n",
       "      <td>1</td>\n",
       "    </tr>\n",
       "    <tr>\n",
       "      <th>3</th>\n",
       "      <td>5</td>\n",
       "      <td>US</td>\n",
       "      <td>64.0</td>\n",
       "      <td>23</td>\n",
       "      <td>337314</td>\n",
       "      <td>116350.0</td>\n",
       "      <td>125500.0</td>\n",
       "      <td>281336</td>\n",
       "      <td>97</td>\n",
       "      <td>27.863636</td>\n",
       "      <td>73</td>\n",
       "      <td>11</td>\n",
       "      <td>1.090870</td>\n",
       "      <td>372204</td>\n",
       "      <td>12</td>\n",
       "      <td>0</td>\n",
       "      <td>1</td>\n",
       "    </tr>\n",
       "    <tr>\n",
       "      <th>4</th>\n",
       "      <td>6</td>\n",
       "      <td>CN</td>\n",
       "      <td>48.0</td>\n",
       "      <td>152</td>\n",
       "      <td>273844</td>\n",
       "      <td>124560.0</td>\n",
       "      <td>130702.0</td>\n",
       "      <td>309928</td>\n",
       "      <td>5</td>\n",
       "      <td>4.788079</td>\n",
       "      <td>47</td>\n",
       "      <td>27</td>\n",
       "      <td>0.970658</td>\n",
       "      <td>338813</td>\n",
       "      <td>39</td>\n",
       "      <td>0</td>\n",
       "      <td>1</td>\n",
       "    </tr>\n",
       "    <tr>\n",
       "      <th>5</th>\n",
       "      <td>6</td>\n",
       "      <td>CN</td>\n",
       "      <td>64.0</td>\n",
       "      <td>92</td>\n",
       "      <td>313338</td>\n",
       "      <td>112364.0</td>\n",
       "      <td>76946.0</td>\n",
       "      <td>294585</td>\n",
       "      <td>79</td>\n",
       "      <td>7.043956</td>\n",
       "      <td>52</td>\n",
       "      <td>10</td>\n",
       "      <td>0.967692</td>\n",
       "      <td>343121</td>\n",
       "      <td>15</td>\n",
       "      <td>0</td>\n",
       "      <td>1</td>\n",
       "    </tr>\n",
       "    <tr>\n",
       "      <th>...</th>\n",
       "      <td>...</td>\n",
       "      <td>...</td>\n",
       "      <td>...</td>\n",
       "      <td>...</td>\n",
       "      <td>...</td>\n",
       "      <td>...</td>\n",
       "      <td>...</td>\n",
       "      <td>...</td>\n",
       "      <td>...</td>\n",
       "      <td>...</td>\n",
       "      <td>...</td>\n",
       "      <td>...</td>\n",
       "      <td>...</td>\n",
       "      <td>...</td>\n",
       "      <td>...</td>\n",
       "      <td>...</td>\n",
       "      <td>...</td>\n",
       "    </tr>\n",
       "    <tr>\n",
       "      <th>54995</th>\n",
       "      <td>4</td>\n",
       "      <td>CN</td>\n",
       "      <td>32.0</td>\n",
       "      <td>2</td>\n",
       "      <td>1967</td>\n",
       "      <td>1750.0</td>\n",
       "      <td>0.0</td>\n",
       "      <td>3453</td>\n",
       "      <td>368</td>\n",
       "      <td>60.000000</td>\n",
       "      <td>60</td>\n",
       "      <td>0</td>\n",
       "      <td>0.580828</td>\n",
       "      <td>1967</td>\n",
       "      <td>0</td>\n",
       "      <td>0</td>\n",
       "      <td>1</td>\n",
       "    </tr>\n",
       "    <tr>\n",
       "      <th>54996</th>\n",
       "      <td>4</td>\n",
       "      <td>CN</td>\n",
       "      <td>56.0</td>\n",
       "      <td>2</td>\n",
       "      <td>1452</td>\n",
       "      <td>1785.0</td>\n",
       "      <td>0.0</td>\n",
       "      <td>3820</td>\n",
       "      <td>387</td>\n",
       "      <td>173.000000</td>\n",
       "      <td>173</td>\n",
       "      <td>0</td>\n",
       "      <td>0.525000</td>\n",
       "      <td>1452</td>\n",
       "      <td>0</td>\n",
       "      <td>0</td>\n",
       "      <td>1</td>\n",
       "    </tr>\n",
       "    <tr>\n",
       "      <th>54997</th>\n",
       "      <td>4</td>\n",
       "      <td>CN</td>\n",
       "      <td>42.0</td>\n",
       "      <td>2</td>\n",
       "      <td>759</td>\n",
       "      <td>892.5</td>\n",
       "      <td>0.0</td>\n",
       "      <td>4222</td>\n",
       "      <td>570</td>\n",
       "      <td>94.000000</td>\n",
       "      <td>94</td>\n",
       "      <td>0</td>\n",
       "      <td>0.475000</td>\n",
       "      <td>2259</td>\n",
       "      <td>1</td>\n",
       "      <td>0</td>\n",
       "      <td>1</td>\n",
       "    </tr>\n",
       "    <tr>\n",
       "      <th>54998</th>\n",
       "      <td>4</td>\n",
       "      <td>CN</td>\n",
       "      <td>36.0</td>\n",
       "      <td>4</td>\n",
       "      <td>2074</td>\n",
       "      <td>0.0</td>\n",
       "      <td>2163.0</td>\n",
       "      <td>2596</td>\n",
       "      <td>22</td>\n",
       "      <td>33.000000</td>\n",
       "      <td>82</td>\n",
       "      <td>0</td>\n",
       "      <td>0.772500</td>\n",
       "      <td>2074</td>\n",
       "      <td>0</td>\n",
       "      <td>1</td>\n",
       "      <td>0</td>\n",
       "    </tr>\n",
       "    <tr>\n",
       "      <th>54999</th>\n",
       "      <td>4</td>\n",
       "      <td>CN</td>\n",
       "      <td>48.0</td>\n",
       "      <td>3</td>\n",
       "      <td>1972</td>\n",
       "      <td>2494.0</td>\n",
       "      <td>0.0</td>\n",
       "      <td>2096</td>\n",
       "      <td>412</td>\n",
       "      <td>1.000000</td>\n",
       "      <td>2</td>\n",
       "      <td>0</td>\n",
       "      <td>0.956679</td>\n",
       "      <td>1972</td>\n",
       "      <td>0</td>\n",
       "      <td>0</td>\n",
       "      <td>1</td>\n",
       "    </tr>\n",
       "  </tbody>\n",
       "</table>\n",
       "<p>51159 rows × 17 columns</p>\n",
       "</div>"
      ],
      "text/plain": [
       "       FFP_TIER WORK_COUNTRY   AGE  FLIGHT_COUNT  BP_SUM  SUM_YR_1  SUM_YR_2  \\\n",
       "0             6           CN  31.0           210  505308  239560.0  234188.0   \n",
       "2             6           CN  40.0           135  351159  163618.0  164982.0   \n",
       "3             5           US  64.0            23  337314  116350.0  125500.0   \n",
       "4             6           CN  48.0           152  273844  124560.0  130702.0   \n",
       "5             6           CN  64.0            92  313338  112364.0   76946.0   \n",
       "...         ...          ...   ...           ...     ...       ...       ...   \n",
       "54995         4           CN  32.0             2    1967    1750.0       0.0   \n",
       "54996         4           CN  56.0             2    1452    1785.0       0.0   \n",
       "54997         4           CN  42.0             2     759     892.5       0.0   \n",
       "54998         4           CN  36.0             4    2074       0.0    2163.0   \n",
       "54999         4           CN  48.0             3    1972    2494.0       0.0   \n",
       "\n",
       "       SEG_KM_SUM  LAST_TO_END  AVG_INTERVAL  MAX_INTERVAL  EXCHANGE_COUNT  \\\n",
       "0          580717            1      3.483254            18              34   \n",
       "2          283712           11      5.298507            18              20   \n",
       "3          281336           97     27.863636            73              11   \n",
       "4          309928            5      4.788079            47              27   \n",
       "5          294585           79      7.043956            52              10   \n",
       "...           ...          ...           ...           ...             ...   \n",
       "54995        3453          368     60.000000            60               0   \n",
       "54996        3820          387    173.000000           173               0   \n",
       "54997        4222          570     94.000000            94               0   \n",
       "54998        2596           22     33.000000            82               0   \n",
       "54999        2096          412      1.000000             2               0   \n",
       "\n",
       "       avg_discount  Points_Sum  Point_NotFlight  GENDER_Female  GENDER_Male  \n",
       "0          0.961639      619760               50              0            1  \n",
       "2          1.254676      406361               26              0            1  \n",
       "3          1.090870      372204               12              0            1  \n",
       "4          0.970658      338813               39              0            1  \n",
       "5          0.967692      343121               15              0            1  \n",
       "...             ...         ...              ...            ...          ...  \n",
       "54995      0.580828        1967                0              0            1  \n",
       "54996      0.525000        1452                0              0            1  \n",
       "54997      0.475000        2259                1              0            1  \n",
       "54998      0.772500        2074                0              1            0  \n",
       "54999      0.956679        1972                0              0            1  \n",
       "\n",
       "[51159 rows x 17 columns]"
      ]
     },
     "execution_count": 27,
     "metadata": {},
     "output_type": "execute_result"
    }
   ],
   "source": [
    "data"
   ]
  },
  {
   "cell_type": "code",
   "execution_count": 28,
   "id": "beed58de",
   "metadata": {},
   "outputs": [
    {
     "data": {
      "text/html": [
       "<div>\n",
       "<style scoped>\n",
       "    .dataframe tbody tr th:only-of-type {\n",
       "        vertical-align: middle;\n",
       "    }\n",
       "\n",
       "    .dataframe tbody tr th {\n",
       "        vertical-align: top;\n",
       "    }\n",
       "\n",
       "    .dataframe thead th {\n",
       "        text-align: right;\n",
       "    }\n",
       "</style>\n",
       "<table border=\"1\" class=\"dataframe\">\n",
       "  <thead>\n",
       "    <tr style=\"text-align: right;\">\n",
       "      <th></th>\n",
       "      <th>FFP_TIER</th>\n",
       "      <th>AGE</th>\n",
       "      <th>FLIGHT_COUNT</th>\n",
       "      <th>BP_SUM</th>\n",
       "      <th>SUM_YR_1</th>\n",
       "      <th>SUM_YR_2</th>\n",
       "      <th>SEG_KM_SUM</th>\n",
       "      <th>LAST_TO_END</th>\n",
       "      <th>AVG_INTERVAL</th>\n",
       "      <th>MAX_INTERVAL</th>\n",
       "      <th>...</th>\n",
       "      <th>Point_NotFlight</th>\n",
       "      <th>GENDER_Female</th>\n",
       "      <th>GENDER_Male</th>\n",
       "      <th>WORK_COUNTRY_AU</th>\n",
       "      <th>WORK_COUNTRY_CN</th>\n",
       "      <th>WORK_COUNTRY_HK</th>\n",
       "      <th>WORK_COUNTRY_JP</th>\n",
       "      <th>WORK_COUNTRY_KR</th>\n",
       "      <th>WORK_COUNTRY_MY</th>\n",
       "      <th>WORK_COUNTRY_US</th>\n",
       "    </tr>\n",
       "  </thead>\n",
       "  <tbody>\n",
       "    <tr>\n",
       "      <th>0</th>\n",
       "      <td>6</td>\n",
       "      <td>31.0</td>\n",
       "      <td>210</td>\n",
       "      <td>505308</td>\n",
       "      <td>239560.0</td>\n",
       "      <td>234188.0</td>\n",
       "      <td>580717</td>\n",
       "      <td>1</td>\n",
       "      <td>3.483254</td>\n",
       "      <td>18</td>\n",
       "      <td>...</td>\n",
       "      <td>50</td>\n",
       "      <td>0</td>\n",
       "      <td>1</td>\n",
       "      <td>0</td>\n",
       "      <td>1</td>\n",
       "      <td>0</td>\n",
       "      <td>0</td>\n",
       "      <td>0</td>\n",
       "      <td>0</td>\n",
       "      <td>0</td>\n",
       "    </tr>\n",
       "    <tr>\n",
       "      <th>2</th>\n",
       "      <td>6</td>\n",
       "      <td>40.0</td>\n",
       "      <td>135</td>\n",
       "      <td>351159</td>\n",
       "      <td>163618.0</td>\n",
       "      <td>164982.0</td>\n",
       "      <td>283712</td>\n",
       "      <td>11</td>\n",
       "      <td>5.298507</td>\n",
       "      <td>18</td>\n",
       "      <td>...</td>\n",
       "      <td>26</td>\n",
       "      <td>0</td>\n",
       "      <td>1</td>\n",
       "      <td>0</td>\n",
       "      <td>1</td>\n",
       "      <td>0</td>\n",
       "      <td>0</td>\n",
       "      <td>0</td>\n",
       "      <td>0</td>\n",
       "      <td>0</td>\n",
       "    </tr>\n",
       "    <tr>\n",
       "      <th>3</th>\n",
       "      <td>5</td>\n",
       "      <td>64.0</td>\n",
       "      <td>23</td>\n",
       "      <td>337314</td>\n",
       "      <td>116350.0</td>\n",
       "      <td>125500.0</td>\n",
       "      <td>281336</td>\n",
       "      <td>97</td>\n",
       "      <td>27.863636</td>\n",
       "      <td>73</td>\n",
       "      <td>...</td>\n",
       "      <td>12</td>\n",
       "      <td>0</td>\n",
       "      <td>1</td>\n",
       "      <td>0</td>\n",
       "      <td>0</td>\n",
       "      <td>0</td>\n",
       "      <td>0</td>\n",
       "      <td>0</td>\n",
       "      <td>0</td>\n",
       "      <td>1</td>\n",
       "    </tr>\n",
       "    <tr>\n",
       "      <th>4</th>\n",
       "      <td>6</td>\n",
       "      <td>48.0</td>\n",
       "      <td>152</td>\n",
       "      <td>273844</td>\n",
       "      <td>124560.0</td>\n",
       "      <td>130702.0</td>\n",
       "      <td>309928</td>\n",
       "      <td>5</td>\n",
       "      <td>4.788079</td>\n",
       "      <td>47</td>\n",
       "      <td>...</td>\n",
       "      <td>39</td>\n",
       "      <td>0</td>\n",
       "      <td>1</td>\n",
       "      <td>0</td>\n",
       "      <td>1</td>\n",
       "      <td>0</td>\n",
       "      <td>0</td>\n",
       "      <td>0</td>\n",
       "      <td>0</td>\n",
       "      <td>0</td>\n",
       "    </tr>\n",
       "    <tr>\n",
       "      <th>5</th>\n",
       "      <td>6</td>\n",
       "      <td>64.0</td>\n",
       "      <td>92</td>\n",
       "      <td>313338</td>\n",
       "      <td>112364.0</td>\n",
       "      <td>76946.0</td>\n",
       "      <td>294585</td>\n",
       "      <td>79</td>\n",
       "      <td>7.043956</td>\n",
       "      <td>52</td>\n",
       "      <td>...</td>\n",
       "      <td>15</td>\n",
       "      <td>0</td>\n",
       "      <td>1</td>\n",
       "      <td>0</td>\n",
       "      <td>1</td>\n",
       "      <td>0</td>\n",
       "      <td>0</td>\n",
       "      <td>0</td>\n",
       "      <td>0</td>\n",
       "      <td>0</td>\n",
       "    </tr>\n",
       "  </tbody>\n",
       "</table>\n",
       "<p>5 rows × 23 columns</p>\n",
       "</div>"
      ],
      "text/plain": [
       "   FFP_TIER   AGE  FLIGHT_COUNT  BP_SUM  SUM_YR_1  SUM_YR_2  SEG_KM_SUM  \\\n",
       "0         6  31.0           210  505308  239560.0  234188.0      580717   \n",
       "2         6  40.0           135  351159  163618.0  164982.0      283712   \n",
       "3         5  64.0            23  337314  116350.0  125500.0      281336   \n",
       "4         6  48.0           152  273844  124560.0  130702.0      309928   \n",
       "5         6  64.0            92  313338  112364.0   76946.0      294585   \n",
       "\n",
       "   LAST_TO_END  AVG_INTERVAL  MAX_INTERVAL  ...  Point_NotFlight  \\\n",
       "0            1      3.483254            18  ...               50   \n",
       "2           11      5.298507            18  ...               26   \n",
       "3           97     27.863636            73  ...               12   \n",
       "4            5      4.788079            47  ...               39   \n",
       "5           79      7.043956            52  ...               15   \n",
       "\n",
       "   GENDER_Female  GENDER_Male  WORK_COUNTRY_AU  WORK_COUNTRY_CN  \\\n",
       "0              0            1                0                1   \n",
       "2              0            1                0                1   \n",
       "3              0            1                0                0   \n",
       "4              0            1                0                1   \n",
       "5              0            1                0                1   \n",
       "\n",
       "   WORK_COUNTRY_HK  WORK_COUNTRY_JP  WORK_COUNTRY_KR  WORK_COUNTRY_MY  \\\n",
       "0                0                0                0                0   \n",
       "2                0                0                0                0   \n",
       "3                0                0                0                0   \n",
       "4                0                0                0                0   \n",
       "5                0                0                0                0   \n",
       "\n",
       "   WORK_COUNTRY_US  \n",
       "0                0  \n",
       "2                0  \n",
       "3                1  \n",
       "4                0  \n",
       "5                0  \n",
       "\n",
       "[5 rows x 23 columns]"
      ]
     },
     "execution_count": 28,
     "metadata": {},
     "output_type": "execute_result"
    }
   ],
   "source": [
    "data = pd.get_dummies(data, columns = [\"WORK_COUNTRY\"])\n",
    "data.head()"
   ]
  },
  {
   "cell_type": "code",
   "execution_count": 29,
   "id": "809f7005",
   "metadata": {},
   "outputs": [
    {
     "name": "stdout",
     "output_type": "stream",
     "text": [
      "<class 'pandas.core.frame.DataFrame'>\n",
      "Int64Index: 51159 entries, 0 to 54999\n",
      "Data columns (total 23 columns):\n",
      " #   Column           Non-Null Count  Dtype  \n",
      "---  ------           --------------  -----  \n",
      " 0   FFP_TIER         51159 non-null  int64  \n",
      " 1   AGE              51159 non-null  float64\n",
      " 2   FLIGHT_COUNT     51159 non-null  int64  \n",
      " 3   BP_SUM           51159 non-null  int64  \n",
      " 4   SUM_YR_1         51159 non-null  float64\n",
      " 5   SUM_YR_2         51159 non-null  float64\n",
      " 6   SEG_KM_SUM       51159 non-null  int64  \n",
      " 7   LAST_TO_END      51159 non-null  int64  \n",
      " 8   AVG_INTERVAL     51159 non-null  float64\n",
      " 9   MAX_INTERVAL     51159 non-null  int64  \n",
      " 10  EXCHANGE_COUNT   51159 non-null  int64  \n",
      " 11  avg_discount     51159 non-null  float64\n",
      " 12  Points_Sum       51159 non-null  int64  \n",
      " 13  Point_NotFlight  51159 non-null  int64  \n",
      " 14  GENDER_Female    51159 non-null  uint8  \n",
      " 15  GENDER_Male      51159 non-null  uint8  \n",
      " 16  WORK_COUNTRY_AU  51159 non-null  uint8  \n",
      " 17  WORK_COUNTRY_CN  51159 non-null  uint8  \n",
      " 18  WORK_COUNTRY_HK  51159 non-null  uint8  \n",
      " 19  WORK_COUNTRY_JP  51159 non-null  uint8  \n",
      " 20  WORK_COUNTRY_KR  51159 non-null  uint8  \n",
      " 21  WORK_COUNTRY_MY  51159 non-null  uint8  \n",
      " 22  WORK_COUNTRY_US  51159 non-null  uint8  \n",
      "dtypes: float64(5), int64(9), uint8(9)\n",
      "memory usage: 6.3 MB\n"
     ]
    }
   ],
   "source": [
    "data.info()"
   ]
  },
  {
   "cell_type": "markdown",
   "id": "d59f33c6",
   "metadata": {},
   "source": [
    "### 4. Scaling"
   ]
  },
  {
   "cell_type": "markdown",
   "id": "45ff783c",
   "metadata": {},
   "source": [
    "module : from sklearn.preprocessing import StandardScaler"
   ]
  },
  {
   "cell_type": "code",
   "execution_count": 30,
   "id": "19fd432c",
   "metadata": {},
   "outputs": [
    {
     "data": {
      "image/png": "[encoded data removed]",
      "text/plain": [
       "<Figure size 720x432 with 1 Axes>"
      ]
     },
     "metadata": {},
     "output_type": "display_data"
    }
   ],
   "source": [
    "sns.set(style=\"whitegrid\")  # Set the style of the plot\n",
    "\n",
    "# Create the box plot\n",
    "plt.figure(figsize=(10, 6))\n",
    "sns.boxplot(data=data)\n",
    "plt.title(\"Box Plot of Data before Scaling\")\n",
    "plt.xlabel(\"X-axis Label\")\n",
    "plt.ylabel(\"Y-axis Label\")\n",
    "plt.xticks(rotation=45)  # Rotate x-axis tick labels by 45 degrees\n",
    "plt.show()\n"
   ]
  },
  {
   "cell_type": "code",
   "execution_count": 31,
   "id": "8b14b490",
   "metadata": {},
   "outputs": [],
   "source": [
    "# initialze standard Scaler\n",
    "ss = StandardScaler()"
   ]
  },
  {
   "cell_type": "code",
   "execution_count": 32,
   "id": "2053e451",
   "metadata": {},
   "outputs": [],
   "source": [
    "data = ss.fit_transform(data)"
   ]
  },
  {
   "cell_type": "code",
   "execution_count": 33,
   "id": "6f5a9838",
   "metadata": {},
   "outputs": [
    {
     "data": {
      "image/png": "[encoded data removed]",
      "text/plain": [
       "<Figure size 720x432 with 1 Axes>"
      ]
     },
     "metadata": {},
     "output_type": "display_data"
    }
   ],
   "source": [
    "sns.set(style=\"whitegrid\")  # Set the style of the plot\n",
    "\n",
    "# Create the box plot\n",
    "plt.figure(figsize=(10, 6))\n",
    "sns.boxplot(data=data)\n",
    "plt.title(\"Box Plot of Data After Scaling\")\n",
    "plt.xlabel(\"X-axis Label\")\n",
    "plt.ylabel(\"Y-axis Label\")\n",
    "plt.xticks(rotation=45)  # Rotate x-axis tick labels by 45 degrees\n",
    "plt.show()"
   ]
  },
  {
   "cell_type": "markdown",
   "id": "d4b04afc",
   "metadata": {},
   "source": [
    "we have handled all the null values, encoded the categorical values, and removed unnecessary columns and applied scaling to data. Preprocessing is done. Finally, our data is ready for modeling "
   ]
  },
  {
   "cell_type": "markdown",
   "id": "9bc1ec2b",
   "metadata": {},
   "source": [
    "##  Modelling the data \n",
    "module : from sklearn.cluster import KMeans"
   ]
  },
  {
   "cell_type": "code",
   "execution_count": 34,
   "id": "5191e657",
   "metadata": {},
   "outputs": [],
   "source": [
    "#initialize kmeans clustering\n",
    "km = KMeans()"
   ]
  },
  {
   "cell_type": "code",
   "execution_count": 35,
   "id": "cccf7936",
   "metadata": {},
   "outputs": [
    {
     "data": {
      "text/plain": [
       "array([3, 3, 3, ..., 0, 1, 0])"
      ]
     },
     "execution_count": 35,
     "metadata": {},
     "output_type": "execute_result"
    }
   ],
   "source": [
    "#fit and predict the data\n",
    "y_km = km.fit_predict(data)\n",
    "y_km"
   ]
  },
  {
   "cell_type": "code",
   "execution_count": 36,
   "id": "a56b4619",
   "metadata": {},
   "outputs": [
    {
     "data": {
      "text/plain": [
       "array([3, 3, 3, 3, 3, 3, 3, 3, 3, 3])"
      ]
     },
     "execution_count": 36,
     "metadata": {},
     "output_type": "execute_result"
    }
   ],
   "source": [
    "y_km[180:190]"
   ]
  },
  {
   "cell_type": "code",
   "execution_count": 37,
   "id": "ff81c185",
   "metadata": {},
   "outputs": [
    {
     "data": {
      "text/plain": [
       "{0, 1, 2, 3, 4, 5, 6, 7}"
      ]
     },
     "execution_count": 37,
     "metadata": {},
     "output_type": "execute_result"
    }
   ],
   "source": [
    "set(y_km)"
   ]
  },
  {
   "cell_type": "code",
   "execution_count": 43,
   "id": "52ab7554",
   "metadata": {},
   "outputs": [],
   "source": [
    "errors =[]\n",
    "for k in range(2,11):\n",
    "    km = KMeans(n_clusters = k, random_state = 0)\n",
    "    km.fit(data)\n",
    "    errors.append(km.inertia_)"
   ]
  },
  {
   "cell_type": "code",
   "execution_count": 44,
   "id": "642364ca",
   "metadata": {},
   "outputs": [
    {
     "data": {
      "text/plain": [
       "[977577.9654893826,\n",
       " 880414.4751250264,\n",
       " 788182.2664807771,\n",
       " 733937.3877719317,\n",
       " 683383.170583115,\n",
       " 631824.3901027658,\n",
       " 582254.0611945199,\n",
       " 532335.0612999672,\n",
       " 491378.80829972913]"
      ]
     },
     "execution_count": 44,
     "metadata": {},
     "output_type": "execute_result"
    }
   ],
   "source": [
    "errors"
   ]
  },
  {
   "cell_type": "code",
   "execution_count": 45,
   "id": "7ae4b91b",
   "metadata": {},
   "outputs": [
    {
     "data": {
      "text/plain": [
       "[<matplotlib.lines.Line2D at 0x1f566d1d670>]"
      ]
     },
     "execution_count": 45,
     "metadata": {},
     "output_type": "execute_result"
    },
    {
     "data": {
      "image/png": "[encoded data removed]",
      "text/plain": [
       "<Figure size 432x288 with 1 Axes>"
      ]
     },
     "metadata": {},
     "output_type": "display_data"
    }
   ],
   "source": [
    "plt.plot(range(2,11),errors,marker = \"o\")"
   ]
  },
  {
   "cell_type": "code",
   "execution_count": 46,
   "id": "0a5f7a52",
   "metadata": {},
   "outputs": [
    {
     "data": {
      "text/plain": [
       "KMeans(n_clusters=4, random_state=42)"
      ]
     },
     "execution_count": 46,
     "metadata": {},
     "output_type": "execute_result"
    }
   ],
   "source": [
    "# Based on the elbow curve, select the optimal number of clusters (k) and re-fit the model\n",
    "k = 4\n",
    "kmeans = KMeans(n_clusters=k, random_state=42)\n",
    "kmeans.fit(data)"
   ]
  },
  {
   "cell_type": "code",
   "execution_count": 68,
   "id": "11152974",
   "metadata": {},
   "outputs": [],
   "source": [
    "#converting data from numpy array to Pandas dataframe \n",
    "data1 = pd.DataFrame(data)"
   ]
  },
  {
   "cell_type": "code",
   "execution_count": 69,
   "id": "a8fb348d",
   "metadata": {},
   "outputs": [],
   "source": [
    "# Assign cluster labels to the data\n",
    "data1['Cluster'] = kmeans.labels_"
   ]
  },
  {
   "cell_type": "code",
   "execution_count": 70,
   "id": "67112c0c",
   "metadata": {},
   "outputs": [
    {
     "name": "stdout",
     "output_type": "stream",
     "text": [
      "Cluster Counts:\n",
      "2    34966\n",
      "1    11087\n",
      "0     4426\n",
      "3      680\n",
      "Name: Cluster, dtype: int64\n"
     ]
    }
   ],
   "source": [
    "# Analyze the cluster assignments\n",
    "cluster_counts = data1['Cluster'].value_counts()\n",
    "print(\"Cluster Counts:\")\n",
    "print(cluster_counts)"
   ]
  },
  {
   "cell_type": "code",
   "execution_count": 75,
   "id": "4fb1fe26",
   "metadata": {},
   "outputs": [
    {
     "data": {
      "image/png": "[encoded data removed]",
      "text/plain": [
       "<Figure size 576x432 with 1 Axes>"
      ]
     },
     "metadata": {},
     "output_type": "display_data"
    }
   ],
   "source": [
    "# Visualize the cluster counts\n",
    "plt.figure(figsize=(8, 6))\n",
    "sns.countplot(x='Cluster', data=data1)\n",
    "plt.title('Cluster Counts')\n",
    "plt.xlabel('Cluster')\n",
    "plt.ylabel('Count')\n",
    "plt.show()"
   ]
  },
  {
   "cell_type": "code",
   "execution_count": 71,
   "id": "c269ee65",
   "metadata": {},
   "outputs": [
    {
     "name": "stdout",
     "output_type": "stream",
     "text": [
      "\n",
      "Cluster Means:\n",
      "               0         1         2         3         4         5         6   \\\n",
      "Cluster                                                                         \n",
      "0        2.063753  0.211160  2.344373  2.328462  2.015393  2.246064  2.298855   \n",
      "1       -0.225477 -0.280878 -0.300464 -0.261305 -0.238401 -0.264453 -0.247142   \n",
      "2       -0.186502  0.049132 -0.200128 -0.216069 -0.194264 -0.207927 -0.216795   \n",
      "3       -0.166299  0.678768 -0.069538  0.215292  0.758316  0.384268  0.214417   \n",
      "\n",
      "               7         8         9   ...        13        14        15  \\\n",
      "Cluster                                ...                                 \n",
      "0       -0.747091 -0.704176 -0.689753  ...  0.946627 -0.255309  0.254888   \n",
      "1        0.171200  0.105232  0.067792  ... -0.057712  1.834523 -1.834219   \n",
      "2        0.032726  0.059014  0.069620  ... -0.096953 -0.545101  0.545055   \n",
      "3        0.388560 -0.166942 -0.195746  ... -0.235100 -0.219652  0.219772   \n",
      "\n",
      "               16        17        18        19        20        21        22  \n",
      "Cluster                                                                        \n",
      "0       -0.001200  0.104806 -0.027560 -0.104796 -0.085995 -0.026304  0.027984  \n",
      "1        0.047816  0.040798  0.028975 -0.116582 -0.003468 -0.012587  0.004430  \n",
      "2       -0.013755  0.062487 -0.004125 -0.116582  0.014036  0.008215 -0.003125  \n",
      "3       -0.064507 -4.560440 -0.080943  8.577634 -0.105486 -0.045995 -0.093673  \n",
      "\n",
      "[4 rows x 23 columns]\n"
     ]
    }
   ],
   "source": [
    "# Perform additional analysis on the clusters\n",
    "cluster_means = data1.groupby('Cluster').mean()\n",
    "print(\"\\nCluster Means:\")\n",
    "print(cluster_means)"
   ]
  },
  {
   "cell_type": "code",
   "execution_count": 73,
   "id": "5865a94c",
   "metadata": {},
   "outputs": [
    {
     "name": "stdout",
     "output_type": "stream",
     "text": [
      "\n",
      "Cluster 0 Characteristics:\n",
      "                 0            1            2            3            4  \\\n",
      "count  4426.000000  4426.000000  4426.000000  4426.000000  4426.000000   \n",
      "mean      2.063753     0.211160     2.344373     2.328462     2.015393   \n",
      "std       1.808808     0.912457     1.540774     1.880740     1.953437   \n",
      "min      -0.295364    -2.949842    -0.637650    -0.581676    -0.712038   \n",
      "25%      -0.295364    -0.457642     1.335434     1.257650     0.860217   \n",
      "50%       2.212190     0.165408     2.083845     1.795381     1.621351   \n",
      "75%       2.212190     0.788458     3.036368     2.743093     2.636237   \n",
      "max       4.719743     4.007550    13.582162    29.544457    27.901125   \n",
      "\n",
      "                 5            6            7            8            9  ...  \\\n",
      "count  4426.000000  4426.000000  4426.000000  4426.000000  4426.000000  ...   \n",
      "mean      2.246064     2.298855    -0.747091    -0.704176    -0.689753  ...   \n",
      "std       1.773563     1.610201     0.262299     0.159338     0.411341  ...   \n",
      "min      -0.706329    -0.633913    -0.904623    -0.921277    -1.341512  ...   \n",
      "25%       1.158233     1.296688    -0.880875    -0.794611    -0.965485  ...   \n",
      "50%       1.853649     1.926644    -0.833379    -0.735575    -0.786017  ...   \n",
      "75%       2.841143     2.872936    -0.732451    -0.663440    -0.521088  ...   \n",
      "max      25.336384    26.286674     1.826378     1.309286     2.658056  ...   \n",
      "\n",
      "                14           15           16           17           18  \\\n",
      "count  4426.000000  4426.000000  4426.000000  4426.000000  4426.000000   \n",
      "mean     -0.255309     0.254888    -0.001200     0.104806    -0.027560   \n",
      "std       0.778301     0.778852     0.990808     0.730861     0.813098   \n",
      "min      -0.545101    -1.834219    -0.064507    -4.560440    -0.080943   \n",
      "25%      -0.545101     0.545191    -0.064507     0.219277    -0.080943   \n",
      "50%      -0.545101     0.545191    -0.064507     0.219277    -0.080943   \n",
      "75%      -0.545101     0.545191    -0.064507     0.219277    -0.080943   \n",
      "max       1.834523     0.545191    15.502130     0.219277    12.354377   \n",
      "\n",
      "                19           20           21           22  Cluster  \n",
      "count  4426.000000  4426.000000  4426.000000  4426.000000   4426.0  \n",
      "mean     -0.104796    -0.085995    -0.026304     0.027984      0.0  \n",
      "std       0.319930     0.431849     0.654764     1.138255      0.0  \n",
      "min      -0.116582    -0.105486    -0.045995    -0.093673      0.0  \n",
      "25%      -0.116582    -0.105486    -0.045995    -0.093673      0.0  \n",
      "50%      -0.116582    -0.105486    -0.045995    -0.093673      0.0  \n",
      "75%      -0.116582    -0.105486    -0.045995    -0.093673      0.0  \n",
      "max       8.577634     9.479903    21.741537    10.675394      0.0  \n",
      "\n",
      "[8 rows x 24 columns]\n",
      "\n",
      "Cluster 1 Characteristics:\n",
      "                  0             1             2             3             4  \\\n",
      "count  11087.000000  11087.000000  11087.000000  11087.000000  11087.000000   \n",
      "mean      -0.225477     -0.280878     -0.300464     -0.261305     -0.238401   \n",
      "std        0.481282      1.012459      0.509243      0.435138      0.501937   \n",
      "min       -0.295364     -3.676734     -0.773725     -0.740862     -0.712038   \n",
      "25%       -0.295364     -1.080692     -0.637650     -0.561298     -0.576115   \n",
      "50%       -0.295364     -0.457642     -0.501575     -0.411163     -0.385846   \n",
      "75%       -0.295364      0.373092     -0.093351     -0.115836     -0.059415   \n",
      "max        4.719743      7.018959      3.036368      3.256281      3.915803   \n",
      "\n",
      "                  5             6             7             8             9  \\\n",
      "count  11087.000000  11087.000000  11087.000000  11087.000000  11087.000000   \n",
      "mean      -0.264453     -0.247142      0.171200      0.105232      0.067792   \n",
      "std        0.477305      0.543747      1.050507      1.074186      1.064410   \n",
      "min       -0.706329     -0.832615     -0.904623     -0.974630     -1.469704   \n",
      "25%       -0.608136     -0.630729     -0.667145     -0.521340     -0.674918   \n",
      "50%       -0.406300     -0.426502     -0.180314     -0.197788     -0.110876   \n",
      "75%       -0.082751     -0.048505      0.704293      0.377075      0.624088   \n",
      "max        3.195385      4.252074      3.417483      9.901163      4.512557   \n",
      "\n",
      "       ...            14            15            16            17  \\\n",
      "count  ...  1.108700e+04  1.108700e+04  11087.000000  11087.000000   \n",
      "mean   ...  1.834523e+00 -1.834219e+00      0.047816      0.040798   \n",
      "std    ...  1.940757e-13  9.259678e-14      1.317589      0.906257   \n",
      "min    ...  1.834523e+00 -1.834219e+00     -0.064507     -4.560440   \n",
      "25%    ...  1.834523e+00 -1.834219e+00     -0.064507      0.219277   \n",
      "50%    ...  1.834523e+00 -1.834219e+00     -0.064507      0.219277   \n",
      "75%    ...  1.834523e+00 -1.834219e+00     -0.064507      0.219277   \n",
      "max    ...  1.834523e+00 -1.834219e+00     15.502130      0.219277   \n",
      "\n",
      "                 18            19            20            21            22  \\\n",
      "count  11087.000000  1.108700e+04  11087.000000  11087.000000  11087.000000   \n",
      "mean       0.028975 -1.165823e-01     -0.003468     -0.012587      0.004430   \n",
      "std        1.164004  7.785790e-15      0.983648      0.852534      1.023208   \n",
      "min       -0.080943 -1.165823e-01     -0.105486     -0.045995     -0.093673   \n",
      "25%       -0.080943 -1.165823e-01     -0.105486     -0.045995     -0.093673   \n",
      "50%       -0.080943 -1.165823e-01     -0.105486     -0.045995     -0.093673   \n",
      "75%       -0.080943 -1.165823e-01     -0.105486     -0.045995     -0.093673   \n",
      "max       12.354377 -1.165823e-01      9.479903     21.741537     10.675394   \n",
      "\n",
      "       Cluster  \n",
      "count  11087.0  \n",
      "mean       1.0  \n",
      "std        0.0  \n",
      "min        1.0  \n",
      "25%        1.0  \n",
      "50%        1.0  \n",
      "75%        1.0  \n",
      "max        1.0  \n",
      "\n",
      "[8 rows x 24 columns]\n",
      "\n",
      "Cluster 2 Characteristics:\n",
      "                  0             1             2             3             4  \\\n",
      "count  34966.000000  34966.000000  34966.000000  34966.000000  34966.000000   \n",
      "mean      -0.186502      0.049132     -0.200128     -0.216069     -0.194264   \n",
      "std        0.615422      0.982443      0.549664      0.424774      0.520335   \n",
      "min       -0.295364     -3.780576     -0.773725     -0.740862     -0.712038   \n",
      "25%       -0.295364     -0.665325     -0.637650     -0.536366     -0.562469   \n",
      "50%       -0.295364     -0.042275     -0.365501     -0.356623     -0.346670   \n",
      "75%       -0.295364      0.580775      0.042724     -0.017814      0.021655   \n",
      "max        4.719743      5.149809      2.900294      3.131258      4.460451   \n",
      "\n",
      "                  5             6             7             8             9  \\\n",
      "count  34966.000000  34966.000000  34966.000000  34966.000000  34966.000000   \n",
      "mean      -0.207927     -0.216795      0.032726      0.059014      0.069620   \n",
      "std        0.496641      0.529880      0.995394      1.003211      0.997358   \n",
      "min       -0.706329     -0.837577     -0.904623     -0.974630     -1.469704   \n",
      "25%       -0.568992     -0.616999     -0.732451     -0.516293     -0.615095   \n",
      "50%       -0.352700     -0.387713     -0.316864     -0.225754     -0.119422   \n",
      "75%        0.012023      0.032644      0.449004      0.279970      0.564265   \n",
      "max        3.409675      4.252074      3.423420     10.118678      4.674933   \n",
      "\n",
      "       ...            14            15            16            17  \\\n",
      "count  ...  3.496600e+04  34966.000000  34966.000000  34966.000000   \n",
      "mean   ... -5.451008e-01      0.545055     -0.013755      0.062487   \n",
      "std    ...  1.764170e-13      0.017995      0.887404      0.851382   \n",
      "min    ... -5.451008e-01     -1.834219     -0.064507     -4.560440   \n",
      "25%    ... -5.451008e-01      0.545191     -0.064507      0.219277   \n",
      "50%    ... -5.451008e-01      0.545191     -0.064507      0.219277   \n",
      "75%    ... -5.451008e-01      0.545191     -0.064507      0.219277   \n",
      "max    ... -5.451008e-01      0.545191     15.502130      0.219277   \n",
      "\n",
      "                 18            19            20            21            22  \\\n",
      "count  34966.000000  3.496600e+04  34966.000000  34966.000000  34966.000000   \n",
      "mean      -0.004125 -1.165823e-01      0.014036      0.008215     -0.003125   \n",
      "std        0.974365  5.756589e-14      1.063681      1.085450      0.983335   \n",
      "min       -0.080943 -1.165823e-01     -0.105486     -0.045995     -0.093673   \n",
      "25%       -0.080943 -1.165823e-01     -0.105486     -0.045995     -0.093673   \n",
      "50%       -0.080943 -1.165823e-01     -0.105486     -0.045995     -0.093673   \n",
      "75%       -0.080943 -1.165823e-01     -0.105486     -0.045995     -0.093673   \n",
      "max       12.354377 -1.165823e-01      9.479903     21.741537     10.675394   \n",
      "\n",
      "       Cluster  \n",
      "count  34966.0  \n",
      "mean       2.0  \n",
      "std        0.0  \n",
      "min        2.0  \n",
      "25%        2.0  \n",
      "50%        2.0  \n",
      "75%        2.0  \n",
      "max        2.0  \n",
      "\n",
      "[8 rows x 24 columns]\n",
      "\n",
      "Cluster 3 Characteristics:\n",
      "                0           1           2           3           4           5  \\\n",
      "count  680.000000  680.000000  680.000000  680.000000  680.000000  680.000000   \n",
      "mean    -0.166299    0.678768   -0.069538    0.215292    0.758316    0.384268   \n",
      "std      0.570923    1.146915    0.845059    1.001825    1.580234    1.422751   \n",
      "min     -0.295364   -1.703742   -0.773725   -0.740862   -0.712038   -0.706329   \n",
      "25%     -0.295364   -0.249959   -0.637650   -0.443557   -0.269272   -0.706329   \n",
      "50%     -0.295364    0.580775   -0.365501   -0.142567    0.183049   -0.122507   \n",
      "75%     -0.295364    1.619192    0.178798    0.490355    1.168313    0.794428   \n",
      "max      4.719743    4.111392    4.193004    5.316705    8.890021   12.058813   \n",
      "\n",
      "                6           7           8           9  ...          14  \\\n",
      "count  680.000000  680.000000  680.000000  680.000000  ...  680.000000   \n",
      "mean     0.214417    0.388560   -0.166942   -0.195746  ...   -0.219652   \n",
      "std      1.118243    1.238425    0.945277    1.027973  ...    0.818238   \n",
      "min     -0.815806   -0.904623   -0.974630   -1.469704  ...   -0.545101   \n",
      "25%     -0.566598   -0.696829   -0.689999   -0.948392  ...   -0.545101   \n",
      "50%     -0.183018   -0.040795   -0.430409   -0.422808  ...   -0.545101   \n",
      "75%      0.582832    1.281662    0.030271    0.320701  ...   -0.545101   \n",
      "max      5.647762    3.393736    8.176573    3.640856  ...    1.834523   \n",
      "\n",
      "               15            16            17            18            19  \\\n",
      "count  680.000000  6.800000e+02  6.800000e+02  6.800000e+02  6.800000e+02   \n",
      "mean     0.219772 -6.450726e-02 -4.560440e+00 -8.094297e-02  8.577634e+00   \n",
      "std      0.818164  1.666560e-16  5.066344e-14  4.166401e-17  7.288424e-14   \n",
      "min     -1.834219 -6.450726e-02 -4.560440e+00 -8.094297e-02  8.577634e+00   \n",
      "25%      0.545191 -6.450726e-02 -4.560440e+00 -8.094297e-02  8.577634e+00   \n",
      "50%      0.545191 -6.450726e-02 -4.560440e+00 -8.094297e-02  8.577634e+00   \n",
      "75%      0.545191 -6.450726e-02 -4.560440e+00 -8.094297e-02  8.577634e+00   \n",
      "max      0.545191 -6.450726e-02 -4.560440e+00 -8.094297e-02  8.577634e+00   \n",
      "\n",
      "                 20            21            22  Cluster  \n",
      "count  6.800000e+02  6.800000e+02  6.800000e+02    680.0  \n",
      "mean  -1.054863e-01 -4.599491e-02 -9.367335e-02      3.0  \n",
      "std    1.291584e-15  5.277441e-16  1.541568e-15      0.0  \n",
      "min   -1.054863e-01 -4.599491e-02 -9.367335e-02      3.0  \n",
      "25%   -1.054863e-01 -4.599491e-02 -9.367335e-02      3.0  \n",
      "50%   -1.054863e-01 -4.599491e-02 -9.367335e-02      3.0  \n",
      "75%   -1.054863e-01 -4.599491e-02 -9.367335e-02      3.0  \n",
      "max   -1.054863e-01 -4.599491e-02 -9.367335e-02      3.0  \n",
      "\n",
      "[8 rows x 24 columns]\n"
     ]
    }
   ],
   "source": [
    "# Explore the characteristics of each cluster\n",
    "for cluster in range(k):\n",
    "    print(f\"\\nCluster {cluster} Characteristics:\")\n",
    "    print(data1[data1['Cluster'] == cluster].describe())"
   ]
  },
  {
   "cell_type": "markdown",
   "id": "643f8930",
   "metadata": {},
   "source": [
    "##### Silhouette score"
   ]
  },
  {
   "cell_type": "code",
   "execution_count": 48,
   "id": "c9033f0e",
   "metadata": {},
   "outputs": [],
   "source": [
    "from sklearn.metrics import silhouette_score"
   ]
  },
  {
   "cell_type": "code",
   "execution_count": 49,
   "id": "db5b0636",
   "metadata": {},
   "outputs": [
    {
     "data": {
      "text/plain": [
       "0.2816405364030802"
      ]
     },
     "execution_count": 49,
     "metadata": {},
     "output_type": "execute_result"
    }
   ],
   "source": [
    "silhouette_score(data,y_km)"
   ]
  },
  {
   "cell_type": "code",
   "execution_count": 79,
   "id": "f05ce659",
   "metadata": {},
   "outputs": [],
   "source": [
    "scores =[]\n",
    "for i in range(2,11):\n",
    "    km = KMeans(n_clusters = i, random_state = 0)\n",
    "    y_km = km.fit_predict(data)\n",
    "    scores.append(silhouette_score(data,y_km))"
   ]
  },
  {
   "cell_type": "code",
   "execution_count": 80,
   "id": "2e496689",
   "metadata": {},
   "outputs": [
    {
     "data": {
      "text/plain": [
       "[0.42729587294083543,\n",
       " 0.23996980961201472,\n",
       " 0.2570682683914737,\n",
       " 0.2522652679055559,\n",
       " 0.25879259578157576,\n",
       " 0.2683540731862542,\n",
       " 0.27019419815886425,\n",
       " 0.28111257162376524,\n",
       " 0.2221819711654962]"
      ]
     },
     "execution_count": 80,
     "metadata": {},
     "output_type": "execute_result"
    }
   ],
   "source": [
    "scores"
   ]
  },
  {
   "cell_type": "code",
   "execution_count": 81,
   "id": "a019e420",
   "metadata": {},
   "outputs": [
    {
     "data": {
      "text/plain": [
       "[<matplotlib.lines.Line2D at 0x1f5698c3d60>]"
      ]
     },
     "execution_count": 81,
     "metadata": {},
     "output_type": "execute_result"
    },
    {
     "data": {
      "image/png": "[encoded data removed]",
      "text/plain": [
       "<Figure size 432x288 with 1 Axes>"
      ]
     },
     "metadata": {},
     "output_type": "display_data"
    }
   ],
   "source": [
    "plt.plot(range(2,11),scores,marker = \"o\")"
   ]
  },
  {
   "cell_type": "code",
   "execution_count": 85,
   "id": "b1229cb3",
   "metadata": {},
   "outputs": [
    {
     "data": {
      "text/plain": [
       "KMeans(n_clusters=2, random_state=42)"
      ]
     },
     "execution_count": 85,
     "metadata": {},
     "output_type": "execute_result"
    }
   ],
   "source": [
    "# Based on the silhouette scores, select the optimal number of clusters (k) and re-fit the model\n",
    "k = scores.index(max(scores)) + 2\n",
    "kmeans = KMeans(n_clusters=k, random_state=42)\n",
    "kmeans.fit(data)"
   ]
  },
  {
   "cell_type": "code",
   "execution_count": 87,
   "id": "e7ddc5e1",
   "metadata": {},
   "outputs": [],
   "source": [
    "# Assign cluster labels to the data\n",
    "data1['Cluster'] = kmeans.labels_"
   ]
  },
  {
   "cell_type": "code",
   "execution_count": 89,
   "id": "cf323397",
   "metadata": {},
   "outputs": [
    {
     "name": "stdout",
     "output_type": "stream",
     "text": [
      "Cluster Counts:\n",
      "1    46037\n",
      "0     5122\n",
      "Name: Cluster, dtype: int64\n"
     ]
    }
   ],
   "source": [
    "# Analyze the cluster assignments\n",
    "cluster_counts = data1['Cluster'].value_counts()\n",
    "print(\"Cluster Counts:\")\n",
    "print(cluster_counts)"
   ]
  },
  {
   "cell_type": "code",
   "execution_count": 91,
   "id": "790c98f4",
   "metadata": {},
   "outputs": [
    {
     "name": "stdout",
     "output_type": "stream",
     "text": [
      "\n",
      "Cluster Means:\n",
      "               0         1         2         3         4         5         6   \\\n",
      "Cluster                                                                         \n",
      "0        1.869004  0.224239  2.190218  2.170087  1.921881  2.102168  2.172756   \n",
      "1       -0.207942 -0.024949 -0.243680 -0.241440 -0.213825 -0.233884 -0.241737   \n",
      "\n",
      "               7         8         9   ...        13        14        15  \\\n",
      "Cluster                                ...                                 \n",
      "0       -0.733570 -0.691140 -0.661087  ...  0.853068 -0.218030  0.217686   \n",
      "1        0.081616  0.076895  0.073551  ... -0.094911  0.024258 -0.024219   \n",
      "\n",
      "               16        17        18        19        20        21        22  \n",
      "Cluster                                                                        \n",
      "0       -0.006763 -0.000952 -0.029959  0.088806 -0.083029 -0.016219  0.024067  \n",
      "1        0.000752  0.000106  0.003333 -0.009880  0.009238  0.001804 -0.002678  \n",
      "\n",
      "[2 rows x 23 columns]\n"
     ]
    }
   ],
   "source": [
    "# Perform additional analysis on the clusters\n",
    "cluster_means = data1.groupby('Cluster').mean()\n",
    "print(\"\\nCluster Means:\")\n",
    "print(cluster_means)"
   ]
  },
  {
   "cell_type": "code",
   "execution_count": 92,
   "id": "c433e04c",
   "metadata": {},
   "outputs": [
    {
     "name": "stdout",
     "output_type": "stream",
     "text": [
      "\n",
      "Cluster 0 Characteristics:\n",
      "                 0            1            2            3            4  \\\n",
      "count  5122.000000  5122.000000  5122.000000  5122.000000  5122.000000   \n",
      "mean      1.869004     0.224239     2.190218     2.170087     1.921881   \n",
      "std       1.833892     0.923374     1.506556     1.811446     1.901952   \n",
      "min      -0.295364    -2.949842    -0.637650    -0.581676    -0.712038   \n",
      "25%      -0.295364    -0.457642     1.199359     1.139339     0.782102   \n",
      "50%       2.212190     0.165408     1.879733     1.645545     1.545626   \n",
      "75%       2.212190     0.788458     2.832256     2.568894     2.543133   \n",
      "max       4.719743     4.007550    13.582162    29.544457    27.901125   \n",
      "\n",
      "                 5            6            7            8            9  ...  \\\n",
      "count  5122.000000  5122.000000  5122.000000  5122.000000  5122.000000  ...   \n",
      "mean      2.102168     2.172756    -0.733570    -0.691140    -0.661087  ...   \n",
      "std       1.737656     1.560183     0.283236     0.163638     0.424046  ...   \n",
      "min      -0.706329    -0.633913    -0.904623    -0.921277    -1.341512  ...   \n",
      "25%       1.026289     1.205730    -0.880875    -0.786608    -0.948392  ...   \n",
      "50%       1.712475     1.809783    -0.833379    -0.723481    -0.760379  ...   \n",
      "75%       2.691351     2.709126    -0.720577    -0.646002    -0.486904  ...   \n",
      "max      25.336384    26.286674     1.826378     1.309286     2.658056  ...   \n",
      "\n",
      "                14           15           16           17           18  \\\n",
      "count  5122.000000  5122.000000  5122.000000  5122.000000  5122.000000   \n",
      "mean     -0.218030     0.217686    -0.006763    -0.000952    -0.029959   \n",
      "std       0.819427     0.819842     0.946427     1.002162     0.794689   \n",
      "min      -0.545101    -1.834219    -0.064507    -4.560440    -0.080943   \n",
      "25%      -0.545101     0.545191    -0.064507     0.219277    -0.080943   \n",
      "50%      -0.545101     0.545191    -0.064507     0.219277    -0.080943   \n",
      "75%      -0.545101     0.545191    -0.064507     0.219277    -0.080943   \n",
      "max       1.834523     0.545191    15.502130     0.219277    12.354377   \n",
      "\n",
      "                19           20           21           22  Cluster  \n",
      "count  5122.000000  5122.000000  5122.000000  5122.000000   5122.0  \n",
      "mean      0.088806    -0.083029    -0.016219     0.024067      0.0  \n",
      "std       1.320549     0.463461     0.804976     1.119973      0.0  \n",
      "min      -0.116582    -0.105486    -0.045995    -0.093673      0.0  \n",
      "25%      -0.116582    -0.105486    -0.045995    -0.093673      0.0  \n",
      "50%      -0.116582    -0.105486    -0.045995    -0.093673      0.0  \n",
      "75%      -0.116582    -0.105486    -0.045995    -0.093673      0.0  \n",
      "max       8.577634     9.479903    21.741537    10.675394      0.0  \n",
      "\n",
      "[8 rows x 24 columns]\n",
      "\n",
      "Cluster 1 Characteristics:\n",
      "                  0             1             2             3             4  \\\n",
      "count  46037.000000  46037.000000  46037.000000  46037.000000  46037.000000   \n",
      "mean      -0.207942     -0.024949     -0.243680     -0.241440     -0.213825   \n",
      "std        0.552516      1.005098      0.515458      0.404990      0.502201   \n",
      "min       -0.295364     -3.780576     -0.773725     -0.740862     -0.712038   \n",
      "25%       -0.295364     -0.769167     -0.637650     -0.544337     -0.567515   \n",
      "50%       -0.295364     -0.146117     -0.433538     -0.376701     -0.358972   \n",
      "75%       -0.295364      0.580775     -0.025314     -0.057071     -0.008773   \n",
      "max        4.719743      7.018959      3.036368      2.941626      3.878060   \n",
      "\n",
      "                  5             6             7             8             9  \\\n",
      "count  46037.000000  46037.000000  46037.000000  46037.000000  46037.000000   \n",
      "mean      -0.233884     -0.241737      0.081616      0.076895      0.073551   \n",
      "std        0.478566      0.506776      1.017755      1.024326      1.018452   \n",
      "min       -0.706329     -0.837577     -0.904623     -0.974630     -1.469704   \n",
      "25%       -0.581336     -0.622863     -0.714640     -0.510079     -0.623641   \n",
      "50%       -0.371827     -0.404965     -0.275305     -0.213325     -0.110876   \n",
      "75%       -0.027872     -0.007609      0.538058      0.308269      0.589903   \n",
      "max        4.500256      3.975839      3.423420     10.118678      4.674933   \n",
      "\n",
      "       ...            14            15            16            17  \\\n",
      "count  ...  46037.000000  46037.000000  46037.000000  46037.000000   \n",
      "mean   ...      0.024258     -0.024219      0.000752      0.000106   \n",
      "std    ...      1.015240      1.015212      1.005802      0.999781   \n",
      "min    ...     -0.545101     -1.834219     -0.064507     -4.560440   \n",
      "25%    ...     -0.545101      0.545191     -0.064507      0.219277   \n",
      "50%    ...     -0.545101      0.545191     -0.064507      0.219277   \n",
      "75%    ...     -0.545101      0.545191     -0.064507      0.219277   \n",
      "max    ...      1.834523      0.545191     15.502130      0.219277   \n",
      "\n",
      "                 18            19            20            21            22  \\\n",
      "count  46037.000000  46037.000000  46037.000000  46037.000000  46037.000000   \n",
      "mean       0.003333     -0.009880      0.009238      0.001804     -0.002678   \n",
      "std        1.020255      0.957248      1.042371      1.019396      0.985738   \n",
      "min       -0.080943     -0.116582     -0.105486     -0.045995     -0.093673   \n",
      "25%       -0.080943     -0.116582     -0.105486     -0.045995     -0.093673   \n",
      "50%       -0.080943     -0.116582     -0.105486     -0.045995     -0.093673   \n",
      "75%       -0.080943     -0.116582     -0.105486     -0.045995     -0.093673   \n",
      "max       12.354377      8.577634      9.479903     21.741537     10.675394   \n",
      "\n",
      "       Cluster  \n",
      "count  46037.0  \n",
      "mean       1.0  \n",
      "std        0.0  \n",
      "min        1.0  \n",
      "25%        1.0  \n",
      "50%        1.0  \n",
      "75%        1.0  \n",
      "max        1.0  \n",
      "\n",
      "[8 rows x 24 columns]\n"
     ]
    }
   ],
   "source": [
    "# Explore the characteristics of each cluster\n",
    "for cluster in range(k):\n",
    "    print(f\"\\nCluster {cluster} Characteristics:\")\n",
    "    print(data1[data1['Cluster'] == cluster].describe())"
   ]
  },
  {
   "cell_type": "code",
   "execution_count": null,
   "id": "bc5396f3",
   "metadata": {},
   "outputs": [],
   "source": []
  }
 ],
 "metadata": {
  "kernelspec": {
   "display_name": "Python 3 (ipykernel)",
   "language": "python",
   "name": "python3"
  },
  "language_info": {
   "codemirror_mode": {
    "name": "ipython",
    "version": 3
   },
   "file_extension": ".py",
   "mimetype": "text/x-python",
   "name": "python",
   "nbconvert_exporter": "python",
   "pygments_lexer": "ipython3",
   "version": "3.9.12"
  }
 },
 "nbformat": 4,
 "nbformat_minor": 5
}
